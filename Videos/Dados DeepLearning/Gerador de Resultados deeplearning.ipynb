{
 "cells": [
  {
   "cell_type": "code",
   "execution_count": 1,
   "metadata": {},
   "outputs": [],
   "source": [
    "import os\n",
    "from datetime import datetime"
   ]
  },
  {
   "cell_type": "code",
   "execution_count": 2,
   "metadata": {},
   "outputs": [],
   "source": [
    "Pastas = list(filter((lambda x :not (\".\") in x),os.listdir()))\n",
    "Pastas.sort()"
   ]
  },
  {
   "cell_type": "code",
   "execution_count": 3,
   "metadata": {},
   "outputs": [
    {
     "data": {
      "text/plain": [
       "['Crowdrun22',\n",
       " 'Crowdrun27',\n",
       " 'Crowdrun32',\n",
       " 'Crowdrun37',\n",
       " 'Duck22',\n",
       " 'Duck27',\n",
       " 'Duck32',\n",
       " 'Duck37',\n",
       " 'Oldtown22',\n",
       " 'Oldtown27',\n",
       " 'Oldtown32',\n",
       " 'Oldtown37',\n",
       " 'ParkJoy22',\n",
       " 'ParkJoy27',\n",
       " 'ParkJoy32',\n",
       " 'ParkJoy37',\n",
       " 'Rushhour22',\n",
       " 'Rushhour27',\n",
       " 'Rushhour32',\n",
       " 'Rushhour37',\n",
       " 'Sunflower22',\n",
       " 'Sunflower27',\n",
       " 'Sunflower32',\n",
       " 'Sunflower37']"
      ]
     },
     "execution_count": 3,
     "metadata": {},
     "output_type": "execute_result"
    }
   ],
   "source": [
    "Pastas"
   ]
  },
  {
   "cell_type": "code",
   "execution_count": null,
   "metadata": {},
   "outputs": [
    {
     "name": "stdout",
     "output_type": "stream",
     "text": [
      "Entering pasta Crowdrun22 at 06:19:45\n",
      "\n",
      "Executanto o TapEncoder nessa pasta\n"
     ]
    }
   ],
   "source": [
    "for pasta in Pastas:\n",
    "    os.chdir(\"./\"+pasta)\n",
    "    entra = datetime.now()\n",
    "    print(\"Entering pasta\",pasta,\"at {}\".format(datetime.now().strftime(\"%H:%M:%S\")))\n",
    "    print(\"\\nExecutanto o TapEncoder nessa pasta\")\n",
    "    os.system(\"./TAppEncoderStatic -c encoder_randomaccess_main.cfg >Result_bypass_depplearning.txt\")\n",
    "    sai = datetime.now()\n",
    "    diferenca = (sai-entra).total_seconds()/60\n",
    "    print(\"\\n Tempo para executar na pasta = {:.2f} MINUTOS\".format(diferenca))\n",
    "    print(\"\\nTapEncoder Finalizado na pasta {}, saindo da pasta as {}\\n\".format(pasta,datetime.now().strftime(\"%H:%M:%S\")))\n",
    "    print(os.getcwd())\n",
    "    os.chdir(\"..\")"
   ]
  },
  {
   "cell_type": "code",
   "execution_count": null,
   "metadata": {},
   "outputs": [],
   "source": []
  }
 ],
 "metadata": {
  "kernelspec": {
   "display_name": "Python 3",
   "language": "python",
   "name": "python3"
  },
  "language_info": {
   "codemirror_mode": {
    "name": "ipython",
    "version": 3
   },
   "file_extension": ".py",
   "mimetype": "text/x-python",
   "name": "python",
   "nbconvert_exporter": "python",
   "pygments_lexer": "ipython3",
   "version": "3.6.8"
  }
 },
 "nbformat": 4,
 "nbformat_minor": 4
}
