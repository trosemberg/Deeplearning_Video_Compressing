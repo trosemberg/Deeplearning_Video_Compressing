{
 "cells": [
  {
   "cell_type": "code",
   "execution_count": 1,
   "metadata": {},
   "outputs": [],
   "source": [
    "import numpy as np\n",
    "import pandas as pd\n",
    "import os\n",
    "from Cfg_file import cfg\n",
    "import re\n",
    "from bypass import *\n",
    "from random import *"
   ]
  },
  {
   "cell_type": "markdown",
   "metadata": {},
   "source": [
    "### Cria o arquivo .cgf no formato correto."
   ]
  },
  {
   "cell_type": "code",
   "execution_count": 2,
   "metadata": {},
   "outputs": [],
   "source": [
    "config_file = cfg()\n",
    "Crowdrun = \"Crowdrun_1920x1080_50_8bit_420.yuv\"\n",
    "Ducks = \"DucksTakeOff_1920x1080_50_8bit_420.yuv\"\n",
    "ParkJoy = \"ParkJoy_1920x1080_50_8bit_420.yuv\"\n",
    "OldTown = \"OldTownCross_1920x1080_50_8bit_420.yuv\"\n",
    "RushHour = \"RushHour_1920x1080_25_8bit_420.yuv\"\n",
    "SunFlower = \"Sunflower_1920x1080_25_8bit_420.yuv\"\n",
    "Video = Crowdrun\n",
    "writesplit = 1\n",
    "bypass=1\n",
    "depth0=1\n",
    "depth1=1\n",
    "depth2=1\n",
    "QP=22\n",
    "start = 0\n",
    "frames = 500"
   ]
  },
  {
   "cell_type": "code",
   "execution_count": 3,
   "metadata": {},
   "outputs": [],
   "source": [
    "config_file.choose_config(Video = Crowdrun, writesplit = writesplit, bypass=bypass, depth0=depth0, depth1=depth1, depth2=depth2, QP=QP, start = start, frames = frames)\n",
    "config_file.writefile()"
   ]
  },
  {
   "cell_type": "markdown",
   "metadata": {},
   "source": [
    "### Gera os arquivos Bypass baseando-se no config File"
   ]
  },
  {
   "cell_type": "code",
   "execution_count": 4,
   "metadata": {},
   "outputs": [],
   "source": [
    "file = open(\"./TapEncoder/encoder_randomaccess_main.cfg\",\"r\")\n",
    "strings = file.readlines()\n",
    "strings[2]\n",
    "resultados = re.search(r\"(\\d+)x(\\d+)\",strings[2])\n",
    "width = int(resultados.group(1))\n",
    "height = int(resultados.group(2))\n",
    "resultados = re.search(r\":\\s(\\d+)\",strings[6])\n",
    "frame_start = int(resultados.group(1))\n",
    "resultados = re.search(r\":\\s(\\d+)\",strings[9])\n",
    "n_frames = int(resultados.group(1))"
   ]
  },
  {
   "cell_type": "code",
   "execution_count": 5,
   "metadata": {},
   "outputs": [],
   "source": [
    "for i in range(frame_start,frame_start+n_frames):\n",
    "    geraRandomSplitFrame(i,width,height)"
   ]
  },
  {
   "cell_type": "code",
   "execution_count": null,
   "metadata": {},
   "outputs": [],
   "source": []
  }
 ],
 "metadata": {
  "kernelspec": {
   "display_name": "Python 3",
   "language": "python",
   "name": "python3"
  },
  "language_info": {
   "codemirror_mode": {
    "name": "ipython",
    "version": 3
   },
   "file_extension": ".py",
   "mimetype": "text/x-python",
   "name": "python",
   "nbconvert_exporter": "python",
   "pygments_lexer": "ipython3",
   "version": "3.6.8"
  }
 },
 "nbformat": 4,
 "nbformat_minor": 4
}
