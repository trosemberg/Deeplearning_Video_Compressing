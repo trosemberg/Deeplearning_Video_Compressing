{
 "cells": [
  {
   "cell_type": "code",
   "execution_count": 1,
   "metadata": {},
   "outputs": [
    {
     "name": "stderr",
     "output_type": "stream",
     "text": [
      "/home/tomas/Desktop/TCC/venv/lib/python3.6/site-packages/tensorflow/python/framework/dtypes.py:516: FutureWarning: Passing (type, 1) or '1type' as a synonym of type is deprecated; in a future version of numpy, it will be understood as (type, (1,)) / '(1,)type'.\n",
      "  _np_qint8 = np.dtype([(\"qint8\", np.int8, 1)])\n",
      "/home/tomas/Desktop/TCC/venv/lib/python3.6/site-packages/tensorflow/python/framework/dtypes.py:517: FutureWarning: Passing (type, 1) or '1type' as a synonym of type is deprecated; in a future version of numpy, it will be understood as (type, (1,)) / '(1,)type'.\n",
      "  _np_quint8 = np.dtype([(\"quint8\", np.uint8, 1)])\n",
      "/home/tomas/Desktop/TCC/venv/lib/python3.6/site-packages/tensorflow/python/framework/dtypes.py:518: FutureWarning: Passing (type, 1) or '1type' as a synonym of type is deprecated; in a future version of numpy, it will be understood as (type, (1,)) / '(1,)type'.\n",
      "  _np_qint16 = np.dtype([(\"qint16\", np.int16, 1)])\n",
      "/home/tomas/Desktop/TCC/venv/lib/python3.6/site-packages/tensorflow/python/framework/dtypes.py:519: FutureWarning: Passing (type, 1) or '1type' as a synonym of type is deprecated; in a future version of numpy, it will be understood as (type, (1,)) / '(1,)type'.\n",
      "  _np_quint16 = np.dtype([(\"quint16\", np.uint16, 1)])\n",
      "/home/tomas/Desktop/TCC/venv/lib/python3.6/site-packages/tensorflow/python/framework/dtypes.py:520: FutureWarning: Passing (type, 1) or '1type' as a synonym of type is deprecated; in a future version of numpy, it will be understood as (type, (1,)) / '(1,)type'.\n",
      "  _np_qint32 = np.dtype([(\"qint32\", np.int32, 1)])\n",
      "/home/tomas/Desktop/TCC/venv/lib/python3.6/site-packages/tensorflow/python/framework/dtypes.py:525: FutureWarning: Passing (type, 1) or '1type' as a synonym of type is deprecated; in a future version of numpy, it will be understood as (type, (1,)) / '(1,)type'.\n",
      "  np_resource = np.dtype([(\"resource\", np.ubyte, 1)])\n",
      "/home/tomas/Desktop/TCC/venv/lib/python3.6/site-packages/tensorboard/compat/tensorflow_stub/dtypes.py:541: FutureWarning: Passing (type, 1) or '1type' as a synonym of type is deprecated; in a future version of numpy, it will be understood as (type, (1,)) / '(1,)type'.\n",
      "  _np_qint8 = np.dtype([(\"qint8\", np.int8, 1)])\n",
      "/home/tomas/Desktop/TCC/venv/lib/python3.6/site-packages/tensorboard/compat/tensorflow_stub/dtypes.py:542: FutureWarning: Passing (type, 1) or '1type' as a synonym of type is deprecated; in a future version of numpy, it will be understood as (type, (1,)) / '(1,)type'.\n",
      "  _np_quint8 = np.dtype([(\"quint8\", np.uint8, 1)])\n",
      "/home/tomas/Desktop/TCC/venv/lib/python3.6/site-packages/tensorboard/compat/tensorflow_stub/dtypes.py:543: FutureWarning: Passing (type, 1) or '1type' as a synonym of type is deprecated; in a future version of numpy, it will be understood as (type, (1,)) / '(1,)type'.\n",
      "  _np_qint16 = np.dtype([(\"qint16\", np.int16, 1)])\n",
      "/home/tomas/Desktop/TCC/venv/lib/python3.6/site-packages/tensorboard/compat/tensorflow_stub/dtypes.py:544: FutureWarning: Passing (type, 1) or '1type' as a synonym of type is deprecated; in a future version of numpy, it will be understood as (type, (1,)) / '(1,)type'.\n",
      "  _np_quint16 = np.dtype([(\"quint16\", np.uint16, 1)])\n",
      "/home/tomas/Desktop/TCC/venv/lib/python3.6/site-packages/tensorboard/compat/tensorflow_stub/dtypes.py:545: FutureWarning: Passing (type, 1) or '1type' as a synonym of type is deprecated; in a future version of numpy, it will be understood as (type, (1,)) / '(1,)type'.\n",
      "  _np_qint32 = np.dtype([(\"qint32\", np.int32, 1)])\n",
      "/home/tomas/Desktop/TCC/venv/lib/python3.6/site-packages/tensorboard/compat/tensorflow_stub/dtypes.py:550: FutureWarning: Passing (type, 1) or '1type' as a synonym of type is deprecated; in a future version of numpy, it will be understood as (type, (1,)) / '(1,)type'.\n",
      "  np_resource = np.dtype([(\"resource\", np.ubyte, 1)])\n",
      "/home/tomas/Desktop/TCC/venv/lib/python3.6/site-packages/apache_beam/__init__.py:84: UserWarning: Some syntactic constructs of Python 3 are not yet fully supported by Apache Beam.\n",
      "  'Some syntactic constructs of Python 3 are not yet fully supported by '\n"
     ]
    }
   ],
   "source": [
    "import tensorflow as tf\n",
    "from tensorflow import keras\n",
    "import pandas as pd\n",
    "import numpy as np\n",
    "import os\n",
    "import cv2\n",
    "from pandas.plotting import table\n",
    "import matplotlib.pyplot as plt\n",
    "import tensorflow_transform as tft\n",
    "import tensorflow_transform.beam as tft_beam\n",
    "tf.enable_eager_execution()\n",
    "from myclasses import DataGenerator"
   ]
  },
  {
   "cell_type": "code",
   "execution_count": 2,
   "metadata": {},
   "outputs": [],
   "source": [
    "cte_height = 1080;\n",
    "cte_width = 1920;"
   ]
  },
  {
   "cell_type": "raw",
   "metadata": {},
   "source": [
    "Info1 = pd.read_csv(\"Depth0_part1\")\n",
    "Info2 = pd.read_csv(\"Depth0_part2\")\n",
    "Info3 = pd.read_csv(\"Depth0_part3\")\n",
    "Info4 = pd.read_csv(\"Depth0_part4\")\n",
    "Informacoes = pd.concat([Info1,Info2,Info3,Info4])"
   ]
  },
  {
   "cell_type": "code",
   "execution_count": 3,
   "metadata": {},
   "outputs": [],
   "source": [
    "Informacoes = pd.read_csv(\"Dataset_QP_Certo\").drop(columns=[\"Unnamed: 0\"])"
   ]
  },
  {
   "cell_type": "code",
   "execution_count": 4,
   "metadata": {},
   "outputs": [],
   "source": [
    "Informacoes[\"Height_Final\"] = Informacoes[\"Height\"]+63\n",
    "Informacoes[\"Width_Final\"] = Informacoes[\"Width\"]+63\n",
    "Informacoes.drop(Informacoes.loc[(Informacoes[\"Height_Final\"]>cte_height)|(Informacoes[\"Width_Final\"]>cte_width)].index,inplace=True)\n",
    "Informacoes.drop(columns=['Height_Final',\"Width_Final\"],inplace=True)\n",
    "Informacoes.loc[Informacoes['Origem'].str.contains(\"OldTown\",na=False),\"Origem\"] = \"OldTown\"\n",
    "Informacoes.loc[Informacoes['Origem'].str.contains(\"Crowd\",na=False),\"Origem\"] = \"Crowd\"\n",
    "Informacoes.loc[Informacoes['Origem'].str.contains(\"SunFlower\",na=False),\"Origem\"] = \"SunFlower\"\n",
    "Informacoes.loc[Informacoes['Origem'].str.contains(\"ParkJoy\",na=False),\"Origem\"] = \"ParkJoy\"\n",
    "Informacoes.loc[Informacoes['Origem'].str.contains(\"Ducks\",na=False),\"Origem\"] = \"Ducks\"\n",
    "Informacoes.loc[Informacoes['Origem'].str.contains(\"RushHour\",na=False),\"Origem\"] = \"RushHour\""
   ]
  },
  {
   "cell_type": "code",
   "execution_count": 5,
   "metadata": {},
   "outputs": [],
   "source": [
    "parkjoy = np.fromfile('./Videos/ParkJoy_1920x1080_50_8bit_420.yuv',dtype='uint8')\n",
    "rushhour= np.fromfile('./Videos/RushHour_1920x1080_25_8bit_420.yuv',dtype='uint8')\n",
    "oldtown = np.fromfile('./Videos/OldTownCross_1920x1080_50_8bit_420.yuv',dtype='uint8')\n",
    "ducks = np.fromfile('./Videos/DucksTakeOff_1920x1080_50_8bit_420.yuv',dtype='uint8')\n",
    "crowdrun = np.fromfile('./Videos/Crowdrun_1920x1080_50_8bit_420.yuv',dtype='uint8')\n",
    "sunflower = np.fromfile('./Videos/Sunflower_1920x1080_25_8bit_420.yuv',dtype='uint8')"
   ]
  },
  {
   "cell_type": "code",
   "execution_count": 6,
   "metadata": {},
   "outputs": [],
   "source": [
    "Map = {'OldTown':oldtown,'Crowd':crowdrun,\"SunFlower\":sunflower,\"ParkJoy\":parkjoy,\"Ducks\":ducks,\"RushHour\":rushhour}"
   ]
  },
  {
   "cell_type": "raw",
   "metadata": {},
   "source": [
    "def generate_input(row,cte_height,cte_width):\n",
    "    begin_Frame = int(row['Frame'])*(cte_height*cte_width + cte_height*cte_width/2)\n",
    "    end_Frame = (int(row['Frame']))*(cte_height*cte_width + cte_height*cte_width/2)+cte_height*cte_width\n",
    "    begin_Frame = int(begin_Frame)\n",
    "    end_Frame = int(end_Frame)\n",
    "    file = np.fromfile(row['Origem'],dtype='uint8')\n",
    "    Input = (file[begin_Frame:end_Frame].reshape([cte_height,cte_width]))[row['Height']:row['Height']+64,row['Width']:row['Width']+64]\n",
    "    return np.append(Input.reshape(1,64*64)[0],row[\"QP\"])"
   ]
  },
  {
   "cell_type": "raw",
   "metadata": {},
   "source": [
    "def input(row,cte_height,cte_width):\n",
    "    begin_Frame = int(row[1])*(cte_height*cte_width + cte_height*cte_width/2)\n",
    "    end_Frame = (int(row[1]))*(cte_height*cte_width + cte_height*cte_width/2)+cte_height*cte_width\n",
    "    begin_Frame = int(begin_Frame)\n",
    "    end_Frame = int(end_Frame)\n",
    "    Input = (Map[row[0]][begin_Frame:end_Frame].reshape([cte_height,cte_width]))[row[2]:row[2]+64,row[3]:row[3]+64]\n",
    "    return np.append(Input.reshape(1,64*64)[0],row[4])"
   ]
  },
  {
   "cell_type": "code",
   "execution_count": 7,
   "metadata": {},
   "outputs": [
    {
     "data": {
      "text/html": [
       "<div>\n",
       "<style scoped>\n",
       "    .dataframe tbody tr th:only-of-type {\n",
       "        vertical-align: middle;\n",
       "    }\n",
       "\n",
       "    .dataframe tbody tr th {\n",
       "        vertical-align: top;\n",
       "    }\n",
       "\n",
       "    .dataframe thead th {\n",
       "        text-align: right;\n",
       "    }\n",
       "</style>\n",
       "<table border=\"1\" class=\"dataframe\">\n",
       "  <thead>\n",
       "    <tr style=\"text-align: right;\">\n",
       "      <th></th>\n",
       "      <th>Origem</th>\n",
       "      <th>Frame</th>\n",
       "      <th>Height</th>\n",
       "      <th>Width</th>\n",
       "      <th>QP</th>\n",
       "      <th>Split</th>\n",
       "    </tr>\n",
       "  </thead>\n",
       "  <tbody>\n",
       "    <tr>\n",
       "      <td>0</td>\n",
       "      <td>Crowd</td>\n",
       "      <td>323</td>\n",
       "      <td>0</td>\n",
       "      <td>0</td>\n",
       "      <td>32</td>\n",
       "      <td>1</td>\n",
       "    </tr>\n",
       "    <tr>\n",
       "      <td>1</td>\n",
       "      <td>Crowd</td>\n",
       "      <td>323</td>\n",
       "      <td>0</td>\n",
       "      <td>64</td>\n",
       "      <td>32</td>\n",
       "      <td>1</td>\n",
       "    </tr>\n",
       "    <tr>\n",
       "      <td>2</td>\n",
       "      <td>Crowd</td>\n",
       "      <td>323</td>\n",
       "      <td>0</td>\n",
       "      <td>128</td>\n",
       "      <td>32</td>\n",
       "      <td>0</td>\n",
       "    </tr>\n",
       "    <tr>\n",
       "      <td>3</td>\n",
       "      <td>Crowd</td>\n",
       "      <td>323</td>\n",
       "      <td>0</td>\n",
       "      <td>192</td>\n",
       "      <td>32</td>\n",
       "      <td>0</td>\n",
       "    </tr>\n",
       "    <tr>\n",
       "      <td>4</td>\n",
       "      <td>Crowd</td>\n",
       "      <td>323</td>\n",
       "      <td>0</td>\n",
       "      <td>256</td>\n",
       "      <td>32</td>\n",
       "      <td>0</td>\n",
       "    </tr>\n",
       "    <tr>\n",
       "      <td>...</td>\n",
       "      <td>...</td>\n",
       "      <td>...</td>\n",
       "      <td>...</td>\n",
       "      <td>...</td>\n",
       "      <td>...</td>\n",
       "      <td>...</td>\n",
       "    </tr>\n",
       "    <tr>\n",
       "      <td>6119965</td>\n",
       "      <td>SunFlower</td>\n",
       "      <td>106</td>\n",
       "      <td>960</td>\n",
       "      <td>1600</td>\n",
       "      <td>37</td>\n",
       "      <td>0</td>\n",
       "    </tr>\n",
       "    <tr>\n",
       "      <td>6119966</td>\n",
       "      <td>SunFlower</td>\n",
       "      <td>106</td>\n",
       "      <td>960</td>\n",
       "      <td>1664</td>\n",
       "      <td>37</td>\n",
       "      <td>0</td>\n",
       "    </tr>\n",
       "    <tr>\n",
       "      <td>6119967</td>\n",
       "      <td>SunFlower</td>\n",
       "      <td>106</td>\n",
       "      <td>960</td>\n",
       "      <td>1728</td>\n",
       "      <td>37</td>\n",
       "      <td>0</td>\n",
       "    </tr>\n",
       "    <tr>\n",
       "      <td>6119968</td>\n",
       "      <td>SunFlower</td>\n",
       "      <td>106</td>\n",
       "      <td>960</td>\n",
       "      <td>1792</td>\n",
       "      <td>37</td>\n",
       "      <td>0</td>\n",
       "    </tr>\n",
       "    <tr>\n",
       "      <td>6119969</td>\n",
       "      <td>SunFlower</td>\n",
       "      <td>106</td>\n",
       "      <td>960</td>\n",
       "      <td>1856</td>\n",
       "      <td>37</td>\n",
       "      <td>0</td>\n",
       "    </tr>\n",
       "  </tbody>\n",
       "</table>\n",
       "<p>5760000 rows × 6 columns</p>\n",
       "</div>"
      ],
      "text/plain": [
       "            Origem  Frame  Height  Width  QP  Split\n",
       "0            Crowd    323       0      0  32      1\n",
       "1            Crowd    323       0     64  32      1\n",
       "2            Crowd    323       0    128  32      0\n",
       "3            Crowd    323       0    192  32      0\n",
       "4            Crowd    323       0    256  32      0\n",
       "...            ...    ...     ...    ...  ..    ...\n",
       "6119965  SunFlower    106     960   1600  37      0\n",
       "6119966  SunFlower    106     960   1664  37      0\n",
       "6119967  SunFlower    106     960   1728  37      0\n",
       "6119968  SunFlower    106     960   1792  37      0\n",
       "6119969  SunFlower    106     960   1856  37      0\n",
       "\n",
       "[5760000 rows x 6 columns]"
      ]
     },
     "execution_count": 7,
     "metadata": {},
     "output_type": "execute_result"
    }
   ],
   "source": [
    "Informacoes"
   ]
  },
  {
   "cell_type": "raw",
   "metadata": {},
   "source": [
    "features = ['Origem','Frame','Height','Width','QP']\n",
    "TARGET = Informacoes.pop('Split')\n",
    "training_set = tf.data.Dataset.from_tensor_slices(\n",
    "    (\n",
    "        tf.cast(Informacoes.values, tf.float64),\n",
    "        tf.cast(TARGET.values, tf.float64)\n",
    "    )\n",
    ").shuffle(5760000).batch(30)"
   ]
  },
  {
   "cell_type": "raw",
   "metadata": {},
   "source": [
    "type(training_set)"
   ]
  },
  {
   "cell_type": "code",
   "execution_count": 8,
   "metadata": {},
   "outputs": [],
   "source": [
    "def get_compiled_model():\n",
    "  model = tf.keras.Sequential([\n",
    "    tf.keras.layers.Dense(10, activation='relu'),\n",
    "    tf.keras.layers.Dense(10, activation='sigmoid'),\n",
    "      tf.keras.layers.Dense(10, activation='relu'),\n",
    "    tf.keras.layers.Dense(2, activation='sigmoid')\n",
    "  ])\n",
    "\n",
    "  model.compile(optimizer='adam',\n",
    "                loss='binary_crossentropy',\n",
    "                metrics=['accuracy','mse'])\n",
    "  return model\n",
    "\n",
    "model = get_compiled_model()"
   ]
  },
  {
   "cell_type": "raw",
   "metadata": {},
   "source": [
    "Informacoes"
   ]
  },
  {
   "cell_type": "code",
   "execution_count": 9,
   "metadata": {},
   "outputs": [],
   "source": [
    "training_generator = DataGenerator(Informacoes,Map,batch_size=100)"
   ]
  },
  {
   "cell_type": "code",
   "execution_count": 10,
   "metadata": {},
   "outputs": [
    {
     "name": "stdout",
     "output_type": "stream",
     "text": [
      "WARNING:tensorflow:From /home/tomas/Desktop/TCC/venv/lib/python3.6/site-packages/tensorflow/python/ops/math_grad.py:1250: add_dispatch_support.<locals>.wrapper (from tensorflow.python.ops.array_ops) is deprecated and will be removed in a future version.\n",
      "Instructions for updating:\n",
      "Use tf.where in 2.0, which has the same broadcast rule as np.where\n",
      "57600/57600 [==============================] - 3071s 53ms/step - loss: 0.6889 - acc: 0.5460 - mean_squared_error: 0.2481\n"
     ]
    },
    {
     "data": {
      "text/plain": [
       "<tensorflow.python.keras.callbacks.History at 0x7fee7cc5fe48>"
      ]
     },
     "execution_count": 10,
     "metadata": {},
     "output_type": "execute_result"
    }
   ],
   "source": [
    "model.fit_generator(generator=training_generator,\n",
    "                    use_multiprocessing=True,\n",
    "                    workers=3)"
   ]
  },
  {
   "cell_type": "code",
   "execution_count": null,
   "metadata": {},
   "outputs": [],
   "source": []
  },
  {
   "cell_type": "code",
   "execution_count": null,
   "metadata": {},
   "outputs": [],
   "source": []
  }
 ],
 "metadata": {
  "kernelspec": {
   "display_name": "Python 3",
   "language": "python",
   "name": "python3"
  },
  "language_info": {
   "codemirror_mode": {
    "name": "ipython",
    "version": 3
   },
   "file_extension": ".py",
   "mimetype": "text/x-python",
   "name": "python",
   "nbconvert_exporter": "python",
   "pygments_lexer": "ipython3",
   "version": "3.6.8"
  }
 },
 "nbformat": 4,
 "nbformat_minor": 4
}
