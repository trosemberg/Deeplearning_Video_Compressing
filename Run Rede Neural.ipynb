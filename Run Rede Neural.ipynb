{
 "cells": [
  {
   "cell_type": "code",
   "execution_count": 1,
   "metadata": {},
   "outputs": [
    {
     "name": "stderr",
     "output_type": "stream",
     "text": [
      "/home/tomas/Desktop/TCC/venv/lib/python3.6/site-packages/tensorflow/python/framework/dtypes.py:516: FutureWarning: Passing (type, 1) or '1type' as a synonym of type is deprecated; in a future version of numpy, it will be understood as (type, (1,)) / '(1,)type'.\n",
      "  _np_qint8 = np.dtype([(\"qint8\", np.int8, 1)])\n",
      "/home/tomas/Desktop/TCC/venv/lib/python3.6/site-packages/tensorflow/python/framework/dtypes.py:517: FutureWarning: Passing (type, 1) or '1type' as a synonym of type is deprecated; in a future version of numpy, it will be understood as (type, (1,)) / '(1,)type'.\n",
      "  _np_quint8 = np.dtype([(\"quint8\", np.uint8, 1)])\n",
      "/home/tomas/Desktop/TCC/venv/lib/python3.6/site-packages/tensorflow/python/framework/dtypes.py:518: FutureWarning: Passing (type, 1) or '1type' as a synonym of type is deprecated; in a future version of numpy, it will be understood as (type, (1,)) / '(1,)type'.\n",
      "  _np_qint16 = np.dtype([(\"qint16\", np.int16, 1)])\n",
      "/home/tomas/Desktop/TCC/venv/lib/python3.6/site-packages/tensorflow/python/framework/dtypes.py:519: FutureWarning: Passing (type, 1) or '1type' as a synonym of type is deprecated; in a future version of numpy, it will be understood as (type, (1,)) / '(1,)type'.\n",
      "  _np_quint16 = np.dtype([(\"quint16\", np.uint16, 1)])\n",
      "/home/tomas/Desktop/TCC/venv/lib/python3.6/site-packages/tensorflow/python/framework/dtypes.py:520: FutureWarning: Passing (type, 1) or '1type' as a synonym of type is deprecated; in a future version of numpy, it will be understood as (type, (1,)) / '(1,)type'.\n",
      "  _np_qint32 = np.dtype([(\"qint32\", np.int32, 1)])\n",
      "/home/tomas/Desktop/TCC/venv/lib/python3.6/site-packages/tensorflow/python/framework/dtypes.py:525: FutureWarning: Passing (type, 1) or '1type' as a synonym of type is deprecated; in a future version of numpy, it will be understood as (type, (1,)) / '(1,)type'.\n",
      "  np_resource = np.dtype([(\"resource\", np.ubyte, 1)])\n",
      "/home/tomas/Desktop/TCC/venv/lib/python3.6/site-packages/tensorboard/compat/tensorflow_stub/dtypes.py:541: FutureWarning: Passing (type, 1) or '1type' as a synonym of type is deprecated; in a future version of numpy, it will be understood as (type, (1,)) / '(1,)type'.\n",
      "  _np_qint8 = np.dtype([(\"qint8\", np.int8, 1)])\n",
      "/home/tomas/Desktop/TCC/venv/lib/python3.6/site-packages/tensorboard/compat/tensorflow_stub/dtypes.py:542: FutureWarning: Passing (type, 1) or '1type' as a synonym of type is deprecated; in a future version of numpy, it will be understood as (type, (1,)) / '(1,)type'.\n",
      "  _np_quint8 = np.dtype([(\"quint8\", np.uint8, 1)])\n",
      "/home/tomas/Desktop/TCC/venv/lib/python3.6/site-packages/tensorboard/compat/tensorflow_stub/dtypes.py:543: FutureWarning: Passing (type, 1) or '1type' as a synonym of type is deprecated; in a future version of numpy, it will be understood as (type, (1,)) / '(1,)type'.\n",
      "  _np_qint16 = np.dtype([(\"qint16\", np.int16, 1)])\n",
      "/home/tomas/Desktop/TCC/venv/lib/python3.6/site-packages/tensorboard/compat/tensorflow_stub/dtypes.py:544: FutureWarning: Passing (type, 1) or '1type' as a synonym of type is deprecated; in a future version of numpy, it will be understood as (type, (1,)) / '(1,)type'.\n",
      "  _np_quint16 = np.dtype([(\"quint16\", np.uint16, 1)])\n",
      "/home/tomas/Desktop/TCC/venv/lib/python3.6/site-packages/tensorboard/compat/tensorflow_stub/dtypes.py:545: FutureWarning: Passing (type, 1) or '1type' as a synonym of type is deprecated; in a future version of numpy, it will be understood as (type, (1,)) / '(1,)type'.\n",
      "  _np_qint32 = np.dtype([(\"qint32\", np.int32, 1)])\n",
      "/home/tomas/Desktop/TCC/venv/lib/python3.6/site-packages/tensorboard/compat/tensorflow_stub/dtypes.py:550: FutureWarning: Passing (type, 1) or '1type' as a synonym of type is deprecated; in a future version of numpy, it will be understood as (type, (1,)) / '(1,)type'.\n",
      "  np_resource = np.dtype([(\"resource\", np.ubyte, 1)])\n",
      "/home/tomas/Desktop/TCC/venv/lib/python3.6/site-packages/apache_beam/__init__.py:84: UserWarning: Some syntactic constructs of Python 3 are not yet fully supported by Apache Beam.\n",
      "  'Some syntactic constructs of Python 3 are not yet fully supported by '\n"
     ]
    }
   ],
   "source": [
    "import numpy as np\n",
    "import pandas as pd\n",
    "import os\n",
    "import re\n",
    "import tensorflow as tf\n",
    "from datetime import datetime\n",
    "from tensorflow import keras\n",
    "from pandas.plotting import table\n",
    "import matplotlib.pyplot as plt\n",
    "import tensorflow_transform as tft\n",
    "import tensorflow_transform.beam as tft_beam\n",
    "from DataLoader import Predictions_Input,map_CU,generate_Depth"
   ]
  },
  {
   "cell_type": "code",
   "execution_count": 2,
   "metadata": {},
   "outputs": [
    {
     "name": "stdout",
     "output_type": "stream",
     "text": [
      "WARNING:tensorflow:From /home/tomas/Desktop/TCC/venv/lib/python3.6/site-packages/tensorflow/python/ops/init_ops.py:97: calling VarianceScaling.__init__ (from tensorflow.python.ops.init_ops) with dtype is deprecated and will be removed in a future version.\n",
      "Instructions for updating:\n",
      "Call initializer instance with the dtype argument instead of passing it to the constructor\n",
      "WARNING:tensorflow:From /home/tomas/Desktop/TCC/venv/lib/python3.6/site-packages/tensorflow/python/ops/init_ops.py:97: calling Zeros.__init__ (from tensorflow.python.ops.init_ops) with dtype is deprecated and will be removed in a future version.\n",
      "Instructions for updating:\n",
      "Call initializer instance with the dtype argument instead of passing it to the constructor\n",
      "WARNING:tensorflow:From /home/tomas/Desktop/TCC/venv/lib/python3.6/site-packages/tensorflow/python/ops/math_grad.py:1250: add_dispatch_support.<locals>.wrapper (from tensorflow.python.ops.array_ops) is deprecated and will be removed in a future version.\n",
      "Instructions for updating:\n",
      "Use tf.where in 2.0, which has the same broadcast rule as np.where\n",
      "WARNING:tensorflow:From /home/tomas/Desktop/TCC/venv/lib/python3.6/site-packages/tensorflow/python/ops/init_ops.py:97: calling GlorotUniform.__init__ (from tensorflow.python.ops.init_ops) with dtype is deprecated and will be removed in a future version.\n",
      "Instructions for updating:\n",
      "Call initializer instance with the dtype argument instead of passing it to the constructor\n"
     ]
    }
   ],
   "source": [
    "Depth_0 = keras.models.load_model('Model_Depth0_adam_63.h5')\n",
    "Depth_1 = keras.models.load_model('Model_Depth1_adam_82.h5')\n",
    "Depth_2 = keras.models.load_model('Model_Depth2_adam_91.h5')\n",
    "os.chdir(\"Videos/Dados DeepLearning\")"
   ]
  },
  {
   "cell_type": "code",
   "execution_count": 3,
   "metadata": {},
   "outputs": [
    {
     "data": {
      "text/plain": [
       "'/home/tomas/Desktop/TCC/Deeplearning_Video_Compressing/Videos/Videos Validacao/Dados Deep'"
      ]
     },
     "execution_count": 3,
     "metadata": {},
     "output_type": "execute_result"
    }
   ],
   "source": [
    "os.chdir(\"../Videos Validacao/Dados Deep\")\n",
    "os.getcwd()"
   ]
  },
  {
   "cell_type": "code",
   "execution_count": 4,
   "metadata": {},
   "outputs": [],
   "source": [
    "Lista = os.listdir(\"./\")\n",
    "Lista = list(filter(lambda x : \".\" not in x,Lista))"
   ]
  },
  {
   "cell_type": "code",
   "execution_count": 6,
   "metadata": {},
   "outputs": [],
   "source": [
    "Lista = list(filter(lambda x : \"Kimon\" in x or \"ParkS\" in x,Lista))"
   ]
  },
  {
   "cell_type": "code",
   "execution_count": 7,
   "metadata": {},
   "outputs": [
    {
     "data": {
      "text/plain": [
       "['Kimon_22',\n",
       " 'Kimon_27',\n",
       " 'Kimon_32',\n",
       " 'Kimon_37',\n",
       " 'ParkS_22',\n",
       " 'ParkS_27',\n",
       " 'ParkS_32',\n",
       " 'ParkS_37']"
      ]
     },
     "execution_count": 7,
     "metadata": {},
     "output_type": "execute_result"
    }
   ],
   "source": [
    "Lista.sort()\n",
    "Lista"
   ]
  },
  {
   "cell_type": "code",
   "execution_count": 8,
   "metadata": {},
   "outputs": [
    {
     "name": "stdout",
     "output_type": "stream",
     "text": [
      "Entering pasta Kimon_22 at 00:15:59\n",
      "\n",
      " Tempo para executar na pasta = 22.17 MINUTOS\n",
      "\n",
      "Bypass com DeepLearning Criado na pasta Kimon_22, saindo da pasta as 00:38:10\n",
      "\n",
      "\n",
      "Entering pasta Kimon_27 at 00:38:10\n",
      "\n",
      " Tempo para executar na pasta = 16.15 MINUTOS\n",
      "\n",
      "Bypass com DeepLearning Criado na pasta Kimon_27, saindo da pasta as 00:54:19\n",
      "\n",
      "\n",
      "Entering pasta Kimon_32 at 00:54:20\n",
      "\n",
      " Tempo para executar na pasta = 14.15 MINUTOS\n",
      "\n",
      "Bypass com DeepLearning Criado na pasta Kimon_32, saindo da pasta as 01:08:29\n",
      "\n",
      "\n",
      "Entering pasta Kimon_37 at 01:08:30\n",
      "\n",
      " Tempo para executar na pasta = 13.71 MINUTOS\n",
      "\n",
      "Bypass com DeepLearning Criado na pasta Kimon_37, saindo da pasta as 01:22:12\n",
      "\n",
      "\n",
      "Entering pasta ParkS_22 at 01:22:13\n",
      "\n",
      " Tempo para executar na pasta = 35.97 MINUTOS\n",
      "\n",
      "Bypass com DeepLearning Criado na pasta ParkS_22, saindo da pasta as 01:58:11\n",
      "\n",
      "\n",
      "Entering pasta ParkS_27 at 01:58:12\n",
      "\n",
      " Tempo para executar na pasta = 20.14 MINUTOS\n",
      "\n",
      "Bypass com DeepLearning Criado na pasta ParkS_27, saindo da pasta as 02:18:20\n",
      "\n",
      "\n",
      "Entering pasta ParkS_32 at 02:18:20\n",
      "\n",
      " Tempo para executar na pasta = 13.00 MINUTOS\n",
      "\n",
      "Bypass com DeepLearning Criado na pasta ParkS_32, saindo da pasta as 02:31:20\n",
      "\n",
      "\n",
      "Entering pasta ParkS_37 at 02:31:21\n",
      "\n",
      " Tempo para executar na pasta = 10.52 MINUTOS\n",
      "\n",
      "Bypass com DeepLearning Criado na pasta ParkS_37, saindo da pasta as 02:41:52\n",
      "\n",
      "\n"
     ]
    }
   ],
   "source": [
    "for folder in Lista:\n",
    "    Dados = Predictions_Input(folder)\n",
    "    Input,Video = Dados.generate_input()\n",
    "    string_2 = \"\"\n",
    "    entra = datetime.now()\n",
    "    print(\"Entering pasta\",folder,\"at {}\".format(datetime.now().strftime(\"%H:%M:%S\")))\n",
    "    for frame in Input[\"Frame\"].unique():\n",
    "        Predict = Input.loc[Input[\"Frame\"]==frame]\n",
    "        file = open(\"./{}/bypassdecision_frame_{}.txt\".format(folder,frame),\"w\")\n",
    "        for i in range(0,Predict.shape[0]):\n",
    "            if ((Predict.iloc[i][\"Height\"]+64)<Dados.height):\n",
    "                Input_Depth0 = map_CU(Predict.iloc[i],Dados.height,Dados.width,64,Video,Dados.QP)\n",
    "                result = Depth_0.predict(Input_Depth0)\n",
    "                string = str(result[0].argmax())\n",
    "            else:\n",
    "                string = \"1\"\n",
    "            if string == \"1\" :\n",
    "                fun = generate_Depth(Predict.iloc[i],32)\n",
    "                for j in range(0,fun.shape[0]):\n",
    "                    if ((fun.iloc[j][\"Height\"]+32)<Dados.height):\n",
    "                        Input_Depth1 = map_CU(fun.iloc[j],Dados.height,Dados.width,32,Video,Dados.QP)\n",
    "                        result = Depth_1.predict(Input_Depth1)\n",
    "                        check = str(result[0].argmax())\n",
    "                        string = string + \" \" + check\n",
    "                    else:\n",
    "                        string = string + \" 1\"\n",
    "                        check = \"1\"\n",
    "                    if check == \"1\":\n",
    "                        not_fun = generate_Depth(fun.iloc[j],16)\n",
    "                        for k in range(0,not_fun.shape[0]):\n",
    "                            if ((not_fun.iloc[k][\"Height\"]+16)<Dados.height):\n",
    "                                Input_Depth2 = map_CU(not_fun.iloc[k],Dados.height,Dados.width,16,Video,Dados.QP)\n",
    "                                result = Depth_2.predict(Input_Depth2)\n",
    "                                string_2 = string_2 + \" \" + str(result[0].argmax())\n",
    "                            else:\n",
    "                                string_2 = string_2 + \" 1\"\n",
    "            string = string + string_2\n",
    "            string_2 = \"\"\n",
    "            file.write(\"CU ({:4d},{:4d}) - {}\\n\".format(Predict.iloc[i][\"Height\"],Predict.iloc[i][\"Width\"],string))\n",
    "        file.close()\n",
    "    del(Input)\n",
    "    del(Video)\n",
    "    del(Dados)\n",
    "    sai = datetime.now()\n",
    "    diferenca = (sai-entra).total_seconds()/60\n",
    "    print(\"\\n Tempo para executar na pasta = {:.2f} MINUTOS\".format(diferenca))\n",
    "    print(\"\\nBypass com DeepLearning Criado na pasta {}, saindo da pasta as {}\\n\\n\".format(folder,datetime.now().strftime(\"%H:%M:%S\")))"
   ]
  },
  {
   "cell_type": "code",
   "execution_count": null,
   "metadata": {},
   "outputs": [],
   "source": []
  }
 ],
 "metadata": {
  "kernelspec": {
   "display_name": "Python 3",
   "language": "python",
   "name": "python3"
  },
  "language_info": {
   "codemirror_mode": {
    "name": "ipython",
    "version": 3
   },
   "file_extension": ".py",
   "mimetype": "text/x-python",
   "name": "python",
   "nbconvert_exporter": "python",
   "pygments_lexer": "ipython3",
   "version": "3.6.8"
  }
 },
 "nbformat": 4,
 "nbformat_minor": 4
}
