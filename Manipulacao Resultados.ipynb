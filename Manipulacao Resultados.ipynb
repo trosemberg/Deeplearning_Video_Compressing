{
 "cells": [
  {
   "cell_type": "code",
   "execution_count": 1,
   "metadata": {},
   "outputs": [],
   "source": [
    "import pandas as pd\n",
    "import numpy as np\n",
    "import os\n",
    "import cv2\n",
    "from pandas.plotting import table\n",
    "import matplotlib.pyplot as plt"
   ]
  },
  {
   "cell_type": "markdown",
   "metadata": {},
   "source": [
    "codigo usado para ler todos os arquivos de saida do programa passado pelo peixoto e transforma-los em um dataset"
   ]
  },
  {
   "cell_type": "raw",
   "metadata": {},
   "source": [
    "os.chdir(\"split with depths/\")\n",
    "print(os.getcwd())"
   ]
  },
  {
   "cell_type": "raw",
   "metadata": {},
   "source": [
    "diretorios = pd.Series(os.listdir())\n",
    "Informacoes = pd.DataFrame(data=[],columns=['Origem','Frame','Height','Width','QP','Split'])"
   ]
  },
  {
   "cell_type": "raw",
   "metadata": {},
   "source": [
    "diretorios"
   ]
  },
  {
   "cell_type": "raw",
   "metadata": {},
   "source": [
    "for diretorio in diretorios:\n",
    "    string = './'+diretorio\n",
    "    os.chdir(string)\n",
    "    print('Entering: ' + os.getcwd())\n",
    "    files = os.listdir('./')\n",
    "    os.getcwd().split(\" \")[-1]\n",
    "    Arquivos = pd.DataFrame(files,columns=['Arquivos'])\n",
    "    Arquivos = Arquivos.loc[Arquivos['Arquivos'].str.contains(\"Depth_0\")]\n",
    "    Arquivos['From'] = os.getcwd().split(\" \")[-1]\n",
    "    Arquivos['From'] = Arquivos['From'].str.extract(\"/(w*)\")\n",
    "    for i in range(Arquivos.shape[0]):\n",
    "        txt = Arquivos.iloc[i,0]\n",
    "        temporario = pd.read_csv(txt,sep='\\n',header = None,names=['info'])\n",
    "        origem = Arquivos.iloc[0,1]\n",
    "        temporario['Origem'] = origem\n",
    "        temporario['Frame'] = txt\n",
    "        temporario['Frame'] = temporario['Frame'].str.extract('frame_(\\d*)')\n",
    "        temporario['Height'] = temporario['info'].str.extract('\\(\\s*(\\d*)')\n",
    "        temporario['Weight'] = temporario['info'].str.extract(',\\s*(\\d*)')\n",
    "        temporario['QP'] = temporario['info'].str.extract('QP\\s=\\s(\\d*)')\n",
    "        temporario['Split'] = temporario['info'].str.extract('(\\d)\\s$')\n",
    "        temporario.drop(columns=['info'],inplace=True)\n",
    "        Informacoes = pd.concat([Informacoes,temporario],ignore_index=True)\n",
    "    print('\\nArquivos que ja foram:',end='')\n",
    "    print(Informacoes['Origem'].unique())\n",
    "    print()\n",
    "    print('Finished: ' + os.getcwd())\n",
    "    os.chdir('..')"
   ]
  },
  {
   "cell_type": "raw",
   "metadata": {},
   "source": [
    "Informacoes['Origem'].unique()"
   ]
  },
  {
   "cell_type": "raw",
   "metadata": {},
   "source": [
    "Informacoes['QP'].unique()"
   ]
  },
  {
   "cell_type": "raw",
   "metadata": {},
   "source": [
    "Informacoes.to_csv(\"Dataset\")"
   ]
  },
  {
   "cell_type": "raw",
   "metadata": {},
   "source": [
    "Informacoes = pd.read_csv(\"Dataset\")"
   ]
  },
  {
   "cell_type": "code",
   "execution_count": 2,
   "metadata": {},
   "outputs": [],
   "source": [
    "cte_height = 1080;\n",
    "cte_width = 1920;"
   ]
  },
  {
   "cell_type": "markdown",
   "metadata": {},
   "source": [
    "Aqui nos lemos o dataset que dividimos em 4 partes para caber no Github"
   ]
  },
  {
   "cell_type": "code",
   "execution_count": 5,
   "metadata": {},
   "outputs": [],
   "source": [
    "Info1 = pd.read_csv(\"Depth0_part1\")\n",
    "Info2 = pd.read_csv(\"Depth0_part2\")\n",
    "Info3 = pd.read_csv(\"Depth0_part3\")\n",
    "Info4 = pd.read_csv(\"Depth0_part4\")\n",
    "Informacoes = pd.concat([Info1,Info2,Info3,Info4])"
   ]
  },
  {
   "cell_type": "code",
   "execution_count": 6,
   "metadata": {},
   "outputs": [],
   "source": [
    "Informacoes.set_index(\"index\",inplace=True)"
   ]
  },
  {
   "cell_type": "code",
   "execution_count": 7,
   "metadata": {},
   "outputs": [
    {
     "data": {
      "text/plain": [
       "(6120000, 6)"
      ]
     },
     "execution_count": 7,
     "metadata": {},
     "output_type": "execute_result"
    }
   ],
   "source": [
    "Informacoes.shape"
   ]
  },
  {
   "cell_type": "code",
   "execution_count": 8,
   "metadata": {},
   "outputs": [
    {
     "data": {
      "text/html": [
       "<div>\n",
       "<style scoped>\n",
       "    .dataframe tbody tr th:only-of-type {\n",
       "        vertical-align: middle;\n",
       "    }\n",
       "\n",
       "    .dataframe tbody tr th {\n",
       "        vertical-align: top;\n",
       "    }\n",
       "\n",
       "    .dataframe thead th {\n",
       "        text-align: right;\n",
       "    }\n",
       "</style>\n",
       "<table border=\"1\" class=\"dataframe\">\n",
       "  <thead>\n",
       "    <tr style=\"text-align: right;\">\n",
       "      <th></th>\n",
       "      <th>Origem</th>\n",
       "      <th>Frame</th>\n",
       "      <th>Height</th>\n",
       "      <th>Width</th>\n",
       "      <th>QP</th>\n",
       "      <th>Split</th>\n",
       "    </tr>\n",
       "    <tr>\n",
       "      <th>index</th>\n",
       "      <th></th>\n",
       "      <th></th>\n",
       "      <th></th>\n",
       "      <th></th>\n",
       "      <th></th>\n",
       "      <th></th>\n",
       "    </tr>\n",
       "  </thead>\n",
       "  <tbody>\n",
       "    <tr>\n",
       "      <th>0</th>\n",
       "      <td>Crowdrun</td>\n",
       "      <td>323</td>\n",
       "      <td>0</td>\n",
       "      <td>0</td>\n",
       "      <td>41</td>\n",
       "      <td>1</td>\n",
       "    </tr>\n",
       "    <tr>\n",
       "      <th>1</th>\n",
       "      <td>Crowdrun</td>\n",
       "      <td>323</td>\n",
       "      <td>0</td>\n",
       "      <td>64</td>\n",
       "      <td>41</td>\n",
       "      <td>1</td>\n",
       "    </tr>\n",
       "    <tr>\n",
       "      <th>2</th>\n",
       "      <td>Crowdrun</td>\n",
       "      <td>323</td>\n",
       "      <td>0</td>\n",
       "      <td>128</td>\n",
       "      <td>41</td>\n",
       "      <td>0</td>\n",
       "    </tr>\n",
       "    <tr>\n",
       "      <th>3</th>\n",
       "      <td>Crowdrun</td>\n",
       "      <td>323</td>\n",
       "      <td>0</td>\n",
       "      <td>192</td>\n",
       "      <td>41</td>\n",
       "      <td>0</td>\n",
       "    </tr>\n",
       "    <tr>\n",
       "      <th>4</th>\n",
       "      <td>Crowdrun</td>\n",
       "      <td>323</td>\n",
       "      <td>0</td>\n",
       "      <td>256</td>\n",
       "      <td>41</td>\n",
       "      <td>0</td>\n",
       "    </tr>\n",
       "  </tbody>\n",
       "</table>\n",
       "</div>"
      ],
      "text/plain": [
       "         Origem  Frame  Height  Width  QP  Split\n",
       "index                                           \n",
       "0      Crowdrun    323       0      0  41      1\n",
       "1      Crowdrun    323       0     64  41      1\n",
       "2      Crowdrun    323       0    128  41      0\n",
       "3      Crowdrun    323       0    192  41      0\n",
       "4      Crowdrun    323       0    256  41      0"
      ]
     },
     "execution_count": 8,
     "metadata": {},
     "output_type": "execute_result"
    }
   ],
   "source": [
    "Informacoes.head()"
   ]
  },
  {
   "cell_type": "markdown",
   "metadata": {},
   "source": [
    "dropando as linhas que o CU já é cortado, desta forma não o utilizaremos para treinar a rede neural"
   ]
  },
  {
   "cell_type": "code",
   "execution_count": 10,
   "metadata": {},
   "outputs": [
    {
     "data": {
      "text/plain": [
       "(5760000, 6)"
      ]
     },
     "execution_count": 10,
     "metadata": {},
     "output_type": "execute_result"
    }
   ],
   "source": [
    "Informacoes.shape"
   ]
  },
  {
   "cell_type": "code",
   "execution_count": 11,
   "metadata": {},
   "outputs": [
    {
     "data": {
      "text/html": [
       "<div>\n",
       "<style scoped>\n",
       "    .dataframe tbody tr th:only-of-type {\n",
       "        vertical-align: middle;\n",
       "    }\n",
       "\n",
       "    .dataframe tbody tr th {\n",
       "        vertical-align: top;\n",
       "    }\n",
       "\n",
       "    .dataframe thead th {\n",
       "        text-align: right;\n",
       "    }\n",
       "</style>\n",
       "<table border=\"1\" class=\"dataframe\">\n",
       "  <thead>\n",
       "    <tr style=\"text-align: right;\">\n",
       "      <th></th>\n",
       "      <th>Origem</th>\n",
       "      <th>Frame</th>\n",
       "      <th>Height</th>\n",
       "      <th>Width</th>\n",
       "      <th>QP</th>\n",
       "      <th>Split</th>\n",
       "    </tr>\n",
       "    <tr>\n",
       "      <th>index</th>\n",
       "      <th></th>\n",
       "      <th></th>\n",
       "      <th></th>\n",
       "      <th></th>\n",
       "      <th></th>\n",
       "      <th></th>\n",
       "    </tr>\n",
       "  </thead>\n",
       "  <tbody>\n",
       "    <tr>\n",
       "      <th>0</th>\n",
       "      <td>Crowdrun</td>\n",
       "      <td>323</td>\n",
       "      <td>0</td>\n",
       "      <td>0</td>\n",
       "      <td>41</td>\n",
       "      <td>1</td>\n",
       "    </tr>\n",
       "    <tr>\n",
       "      <th>1</th>\n",
       "      <td>Crowdrun</td>\n",
       "      <td>323</td>\n",
       "      <td>0</td>\n",
       "      <td>64</td>\n",
       "      <td>41</td>\n",
       "      <td>1</td>\n",
       "    </tr>\n",
       "    <tr>\n",
       "      <th>2</th>\n",
       "      <td>Crowdrun</td>\n",
       "      <td>323</td>\n",
       "      <td>0</td>\n",
       "      <td>128</td>\n",
       "      <td>41</td>\n",
       "      <td>0</td>\n",
       "    </tr>\n",
       "    <tr>\n",
       "      <th>3</th>\n",
       "      <td>Crowdrun</td>\n",
       "      <td>323</td>\n",
       "      <td>0</td>\n",
       "      <td>192</td>\n",
       "      <td>41</td>\n",
       "      <td>0</td>\n",
       "    </tr>\n",
       "    <tr>\n",
       "      <th>4</th>\n",
       "      <td>Crowdrun</td>\n",
       "      <td>323</td>\n",
       "      <td>0</td>\n",
       "      <td>256</td>\n",
       "      <td>41</td>\n",
       "      <td>0</td>\n",
       "    </tr>\n",
       "  </tbody>\n",
       "</table>\n",
       "</div>"
      ],
      "text/plain": [
       "         Origem  Frame  Height  Width  QP  Split\n",
       "index                                           \n",
       "0      Crowdrun    323       0      0  41      1\n",
       "1      Crowdrun    323       0     64  41      1\n",
       "2      Crowdrun    323       0    128  41      0\n",
       "3      Crowdrun    323       0    192  41      0\n",
       "4      Crowdrun    323       0    256  41      0"
      ]
     },
     "execution_count": 11,
     "metadata": {},
     "output_type": "execute_result"
    }
   ],
   "source": [
    "Informacoes.head()"
   ]
  },
  {
   "cell_type": "code",
   "execution_count": 12,
   "metadata": {},
   "outputs": [
    {
     "data": {
      "text/plain": [
       "<matplotlib.axes._subplots.AxesSubplot at 0x7f4b8ea0e160>"
      ]
     },
     "execution_count": 12,
     "metadata": {},
     "output_type": "execute_result"
    },
    {
     "data": {
      "image/png": "[encoded data removed]",
      "text/plain": [
       "<Figure size 432x288 with 1 Axes>"
      ]
     },
     "metadata": {
      "needs_background": "light"
     },
     "output_type": "display_data"
    }
   ],
   "source": [
    "Informacoes['QP'].hist()"
   ]
  },
  {
   "cell_type": "code",
   "execution_count": 13,
   "metadata": {},
   "outputs": [
    {
     "data": {
      "text/plain": [
       "'/home/tomas/Desktop/UNB/Deeplearning_Video_Compressing'"
      ]
     },
     "execution_count": 13,
     "metadata": {},
     "output_type": "execute_result"
    }
   ],
   "source": [
    "os.getcwd()"
   ]
  },
  {
   "cell_type": "markdown",
   "metadata": {},
   "source": [
    "Lemos os videos para podermos mapear o canal Y de cada frame"
   ]
  },
  {
   "cell_type": "code",
   "execution_count": 11,
   "metadata": {},
   "outputs": [],
   "source": [
    "parkjoy = np.fromfile('./Videos/ParkJoy_1920x1080_50_8bit_420.yuv',dtype='uint8')\n",
    "rushhour= np.fromfile('./Videos/RushHour_1920x1080_25_8bit_420.yuv',dtype='uint8')\n",
    "oldtown = np.fromfile('./Videos/OldTownCross_1920x1080_50_8bit_420.yuv',dtype='uint8')\n",
    "ducks = np.fromfile('./Videos/DucksTakeOff_1920x1080_50_8bit_420.yuv',dtype='uint8')\n",
    "crowdrun = np.fromfile('./Videos/Crowdrun_1920x1080_50_8bit_420.yuv',dtype='uint8')\n",
    "sunflower = np.fromfile('./Videos/Sunflower_1920x1080_25_8bit_420.yuv',dtype='uint8')"
   ]
  },
  {
   "cell_type": "code",
   "execution_count": 12,
   "metadata": {},
   "outputs": [
    {
     "data": {
      "text/plain": [
       "(1555200000,)"
      ]
     },
     "execution_count": 12,
     "metadata": {},
     "output_type": "execute_result"
    }
   ],
   "source": [
    "crowdrun.shape"
   ]
  },
  {
   "cell_type": "code",
   "execution_count": 13,
   "metadata": {},
   "outputs": [
    {
     "data": {
      "text/plain": [
       "(1555200000,)"
      ]
     },
     "execution_count": 13,
     "metadata": {},
     "output_type": "execute_result"
    }
   ],
   "source": [
    "parkjoy.shape"
   ]
  },
  {
   "cell_type": "code",
   "execution_count": 14,
   "metadata": {},
   "outputs": [
    {
     "data": {
      "text/plain": [
       "(1555200000,)"
      ]
     },
     "execution_count": 14,
     "metadata": {},
     "output_type": "execute_result"
    }
   ],
   "source": [
    "rushhour.shape"
   ]
  },
  {
   "cell_type": "code",
   "execution_count": 15,
   "metadata": {},
   "outputs": [
    {
     "data": {
      "text/plain": [
       "(1555200000,)"
      ]
     },
     "execution_count": 15,
     "metadata": {},
     "output_type": "execute_result"
    }
   ],
   "source": [
    "oldtown.shape"
   ]
  },
  {
   "cell_type": "code",
   "execution_count": 16,
   "metadata": {},
   "outputs": [
    {
     "ename": "NameError",
     "evalue": "name 'ducks' is not defined",
     "output_type": "error",
     "traceback": [
      "\u001b[0;31m---------------------------------------------------------------------------\u001b[0m",
      "\u001b[0;31mNameError\u001b[0m                                 Traceback (most recent call last)",
      "\u001b[0;32m<ipython-input-16-51e5d5c78258>\u001b[0m in \u001b[0;36m<module>\u001b[0;34m\u001b[0m\n\u001b[0;32m----> 1\u001b[0;31m \u001b[0mducks\u001b[0m\u001b[0;34m.\u001b[0m\u001b[0mshape\u001b[0m\u001b[0;34m\u001b[0m\u001b[0;34m\u001b[0m\u001b[0m\n\u001b[0m",
      "\u001b[0;31mNameError\u001b[0m: name 'ducks' is not defined"
     ]
    }
   ],
   "source": [
    "ducks.shape"
   ]
  },
  {
   "cell_type": "code",
   "execution_count": 17,
   "metadata": {},
   "outputs": [
    {
     "data": {
      "text/plain": [
       "(1555200000,)"
      ]
     },
     "execution_count": 17,
     "metadata": {},
     "output_type": "execute_result"
    }
   ],
   "source": [
    "crowdrun.shape"
   ]
  },
  {
   "cell_type": "code",
   "execution_count": 18,
   "metadata": {},
   "outputs": [
    {
     "data": {
      "text/plain": [
       "(1555200000,)"
      ]
     },
     "execution_count": 18,
     "metadata": {},
     "output_type": "execute_result"
    }
   ],
   "source": [
    "sunflower.shape"
   ]
  },
  {
   "cell_type": "code",
   "execution_count": 20,
   "metadata": {},
   "outputs": [],
   "source": [
    "Map = {\"OldTown\":oldtown,'Crowdrun':crowdrun,'SunFlower':sunflower,\"ParkJoy\":parkjoy,'Ducks':ducks,'RushHour':rushhour}"
   ]
  },
  {
   "cell_type": "code",
   "execution_count": 21,
   "metadata": {},
   "outputs": [],
   "source": [
    "def generate_input(row,cte_height,cte_width):\n",
    "    begin_Frame = int(row['Frame'])*(cte_height*cte_width + cte_height*cte_width/2)\n",
    "    end_Frame = (int(row['Frame']))*(cte_height*cte_width + cte_height*cte_width/2)+cte_height*cte_width\n",
    "    begin_Frame = int(begin_Frame)\n",
    "    end_Frame = int(end_Frame)\n",
    "    Input = (Map[row['Origem']][begin_Frame:end_Frame].reshape([cte_height,cte_width]))[row['Height']:row['Height']+64,row['Width']:row['Width']+64]\n",
    "    return np.append(Input.reshape(1,64*64)[0],row[\"QP\"])"
   ]
  },
  {
   "cell_type": "code",
   "execution_count": null,
   "metadata": {},
   "outputs": [],
   "source": [
    "Info[\"INPUT\"] = Info.apply(lambda x : generate_input(x,cte_height,cte_width),axis=1)"
   ]
  },
  {
   "cell_type": "code",
   "execution_count": null,
   "metadata": {},
   "outputs": [],
   "source": [
    "Info"
   ]
  },
  {
   "cell_type": "code",
   "execution_count": 24,
   "metadata": {},
   "outputs": [
    {
     "ename": "NameError",
     "evalue": "name 'Training_set' is not defined",
     "output_type": "error",
     "traceback": [
      "\u001b[0;31m---------------------------------------------------------------------------\u001b[0m",
      "\u001b[0;31mNameError\u001b[0m                                 Traceback (most recent call last)",
      "\u001b[0;32m<ipython-input-24-38acec88478e>\u001b[0m in \u001b[0;36m<module>\u001b[0;34m\u001b[0m\n\u001b[0;32m----> 1\u001b[0;31m \u001b[0mbegin_Frame\u001b[0m \u001b[0;34m=\u001b[0m \u001b[0mint\u001b[0m\u001b[0;34m(\u001b[0m\u001b[0mTraining_set\u001b[0m\u001b[0;34m.\u001b[0m\u001b[0miloc\u001b[0m\u001b[0;34m[\u001b[0m\u001b[0mi\u001b[0m\u001b[0;34m]\u001b[0m\u001b[0;34m[\u001b[0m\u001b[0;34m'Frame'\u001b[0m\u001b[0;34m]\u001b[0m\u001b[0;34m)\u001b[0m\u001b[0;34m*\u001b[0m\u001b[0;34m(\u001b[0m\u001b[0mcte_height\u001b[0m\u001b[0;34m*\u001b[0m\u001b[0mcte_width\u001b[0m \u001b[0;34m+\u001b[0m \u001b[0mcte_height\u001b[0m\u001b[0;34m*\u001b[0m\u001b[0mcte_width\u001b[0m\u001b[0;34m/\u001b[0m\u001b[0;36m2\u001b[0m\u001b[0;34m)\u001b[0m\u001b[0;34m\u001b[0m\u001b[0;34m\u001b[0m\u001b[0m\n\u001b[0m\u001b[1;32m      2\u001b[0m \u001b[0mend_Frame\u001b[0m \u001b[0;34m=\u001b[0m \u001b[0;34m(\u001b[0m\u001b[0mint\u001b[0m\u001b[0;34m(\u001b[0m\u001b[0mTraining_set\u001b[0m\u001b[0;34m.\u001b[0m\u001b[0miloc\u001b[0m\u001b[0;34m[\u001b[0m\u001b[0mi\u001b[0m\u001b[0;34m]\u001b[0m\u001b[0;34m[\u001b[0m\u001b[0;34m'Frame'\u001b[0m\u001b[0;34m]\u001b[0m\u001b[0;34m)\u001b[0m\u001b[0;34m)\u001b[0m\u001b[0;34m*\u001b[0m\u001b[0;34m(\u001b[0m\u001b[0mcte_height\u001b[0m\u001b[0;34m*\u001b[0m\u001b[0mcte_width\u001b[0m \u001b[0;34m+\u001b[0m \u001b[0mcte_height\u001b[0m\u001b[0;34m*\u001b[0m\u001b[0mcte_width\u001b[0m\u001b[0;34m/\u001b[0m\u001b[0;36m2\u001b[0m\u001b[0;34m)\u001b[0m\u001b[0;34m+\u001b[0m\u001b[0mcte_height\u001b[0m\u001b[0;34m*\u001b[0m\u001b[0mcte_width\u001b[0m\u001b[0;34m\u001b[0m\u001b[0;34m\u001b[0m\u001b[0m\n\u001b[1;32m      3\u001b[0m \u001b[0mbegin_Frame\u001b[0m \u001b[0;34m=\u001b[0m \u001b[0mint\u001b[0m\u001b[0;34m(\u001b[0m\u001b[0mbegin_Frame\u001b[0m\u001b[0;34m)\u001b[0m\u001b[0;34m\u001b[0m\u001b[0;34m\u001b[0m\u001b[0m\n\u001b[1;32m      4\u001b[0m \u001b[0mend_Frame\u001b[0m \u001b[0;34m=\u001b[0m \u001b[0mint\u001b[0m\u001b[0;34m(\u001b[0m\u001b[0mend_Frame\u001b[0m\u001b[0;34m)\u001b[0m\u001b[0;34m\u001b[0m\u001b[0;34m\u001b[0m\u001b[0m\n",
      "\u001b[0;31mNameError\u001b[0m: name 'Training_set' is not defined"
     ]
    }
   ],
   "source": [
    "begin_Frame = int(Training_set.iloc[i]['Frame'])*(cte_height*cte_width + cte_height*cte_width/2)\n",
    "end_Frame = (int(Training_set.iloc[i]['Frame']))*(cte_height*cte_width + cte_height*cte_width/2)+cte_height*cte_width\n",
    "begin_Frame = int(begin_Frame)\n",
    "end_Frame = int(end_Frame)"
   ]
  },
  {
   "cell_type": "code",
   "execution_count": 64,
   "metadata": {},
   "outputs": [],
   "source": [
    "Input = Map[Training_set.iloc[i]['Origem']][begin_Frame:end_Frame].reshape([cte_height,cte_width])\n",
    "Height = Training_set.iloc[i][\"Height\"]\n",
    "Width = Training_set.iloc[i][\"Width\"]\n",
    "Input_2  = Input[Height:Height+64,Width:Width+64]\n",
    "Input_2 = Input_2.reshape(1,64*64)[0]\n",
    "Input_2 = np.append(Input_2,Training_set.iloc[i][\"QP\"])\n",
    "Output = Training_set.iloc[i][\"Split\"]"
   ]
  },
  {
   "cell_type": "code",
   "execution_count": 23,
   "metadata": {},
   "outputs": [],
   "source": [
    "Data_Validation = Informacoes.iloc[int(4*Informacoes.shape[0]/5):].copy()"
   ]
  },
  {
   "cell_type": "code",
   "execution_count": 24,
   "metadata": {},
   "outputs": [],
   "source": [
    "Test_set = Informacoes.iloc[int(3*Informacoes.shape[0]/5):int(4*Informacoes.shape[0]/5)].copy()"
   ]
  },
  {
   "cell_type": "code",
   "execution_count": 25,
   "metadata": {},
   "outputs": [],
   "source": [
    "Training_set = Informacoes.iloc[:int(3*Informacoes.shape[0]/5)].copy()"
   ]
  },
  {
   "cell_type": "code",
   "execution_count": 26,
   "metadata": {},
   "outputs": [
    {
     "data": {
      "text/html": [
       "<div>\n",
       "<style scoped>\n",
       "    .dataframe tbody tr th:only-of-type {\n",
       "        vertical-align: middle;\n",
       "    }\n",
       "\n",
       "    .dataframe tbody tr th {\n",
       "        vertical-align: top;\n",
       "    }\n",
       "\n",
       "    .dataframe thead th {\n",
       "        text-align: right;\n",
       "    }\n",
       "</style>\n",
       "<table border=\"1\" class=\"dataframe\">\n",
       "  <thead>\n",
       "    <tr style=\"text-align: right;\">\n",
       "      <th></th>\n",
       "      <th>Origem</th>\n",
       "      <th>Frame</th>\n",
       "      <th>Height</th>\n",
       "      <th>Width</th>\n",
       "      <th>QP</th>\n",
       "      <th>Split</th>\n",
       "    </tr>\n",
       "    <tr>\n",
       "      <th>index</th>\n",
       "      <th></th>\n",
       "      <th></th>\n",
       "      <th></th>\n",
       "      <th></th>\n",
       "      <th></th>\n",
       "      <th></th>\n",
       "    </tr>\n",
       "  </thead>\n",
       "  <tbody>\n",
       "    <tr>\n",
       "      <th>4800672</th>\n",
       "      <td>Ducks</td>\n",
       "      <td>419</td>\n",
       "      <td>64</td>\n",
       "      <td>768</td>\n",
       "      <td>36</td>\n",
       "      <td>0</td>\n",
       "    </tr>\n",
       "    <tr>\n",
       "      <th>1086346</th>\n",
       "      <td>RushHour</td>\n",
       "      <td>118</td>\n",
       "      <td>64</td>\n",
       "      <td>1024</td>\n",
       "      <td>45</td>\n",
       "      <td>0</td>\n",
       "    </tr>\n",
       "    <tr>\n",
       "      <th>4777884</th>\n",
       "      <td>Ducks</td>\n",
       "      <td>80</td>\n",
       "      <td>384</td>\n",
       "      <td>1536</td>\n",
       "      <td>28</td>\n",
       "      <td>1</td>\n",
       "    </tr>\n",
       "    <tr>\n",
       "      <th>812234</th>\n",
       "      <td>ParkJoy</td>\n",
       "      <td>346</td>\n",
       "      <td>640</td>\n",
       "      <td>896</td>\n",
       "      <td>34</td>\n",
       "      <td>1</td>\n",
       "    </tr>\n",
       "    <tr>\n",
       "      <th>4011227</th>\n",
       "      <td>RushHour</td>\n",
       "      <td>241</td>\n",
       "      <td>128</td>\n",
       "      <td>1088</td>\n",
       "      <td>41</td>\n",
       "      <td>0</td>\n",
       "    </tr>\n",
       "  </tbody>\n",
       "</table>\n",
       "</div>"
      ],
      "text/plain": [
       "           Origem  Frame  Height  Width  QP  Split\n",
       "index                                             \n",
       "4800672     Ducks    419      64    768  36      0\n",
       "1086346  RushHour    118      64   1024  45      0\n",
       "4777884     Ducks     80     384   1536  28      1\n",
       "812234    ParkJoy    346     640    896  34      1\n",
       "4011227  RushHour    241     128   1088  41      0"
      ]
     },
     "execution_count": 26,
     "metadata": {},
     "output_type": "execute_result"
    }
   ],
   "source": [
    "Informacoes.head()"
   ]
  },
  {
   "cell_type": "markdown",
   "metadata": {},
   "source": [
    "Tentando fazer usando uma parte da Info de cada vez, ver se a memoria Ram aguenta\n",
    "Rodar essa parte toda para cada depth part e cada video"
   ]
  },
  {
   "cell_type": "code",
   "execution_count": 1,
   "metadata": {},
   "outputs": [],
   "source": [
    "import pandas as pd\n",
    "import numpy as np\n",
    "import os\n",
    "import cv2\n",
    "from pandas.plotting import table\n",
    "import matplotlib.pyplot as plt"
   ]
  },
  {
   "cell_type": "code",
   "execution_count": 2,
   "metadata": {},
   "outputs": [],
   "source": [
    "cte_height = 1080;\n",
    "cte_width = 1920;"
   ]
  },
  {
   "cell_type": "code",
   "execution_count": 2,
   "metadata": {},
   "outputs": [],
   "source": [
    "Info = pd.read_csv(\"Depth0_part1\")"
   ]
  },
  {
   "cell_type": "code",
   "execution_count": 3,
   "metadata": {},
   "outputs": [],
   "source": [
    "Info.set_index(\"index\",inplace=True)"
   ]
  },
  {
   "cell_type": "code",
   "execution_count": 4,
   "metadata": {},
   "outputs": [
    {
     "data": {
      "text/plain": [
       "array(['Crowdrun', 'SunFlower', 'ParkJoy', 'RushHour', 'OldTown'],\n",
       "      dtype=object)"
      ]
     },
     "execution_count": 4,
     "metadata": {},
     "output_type": "execute_result"
    }
   ],
   "source": [
    "Info['Origem'].unique()"
   ]
  },
  {
   "cell_type": "code",
   "execution_count": 5,
   "metadata": {},
   "outputs": [
    {
     "ename": "NameError",
     "evalue": "name 'cte_height' is not defined",
     "output_type": "error",
     "traceback": [
      "\u001b[0;31m---------------------------------------------------------------------------\u001b[0m",
      "\u001b[0;31mNameError\u001b[0m                                 Traceback (most recent call last)",
      "\u001b[0;32m<ipython-input-5-0b97e6ccd0b8>\u001b[0m in \u001b[0;36m<module>\u001b[0;34m\u001b[0m\n\u001b[1;32m      1\u001b[0m \u001b[0mInfo\u001b[0m\u001b[0;34m[\u001b[0m\u001b[0;34m\"Height_Final\"\u001b[0m\u001b[0;34m]\u001b[0m \u001b[0;34m=\u001b[0m \u001b[0mInfo\u001b[0m\u001b[0;34m[\u001b[0m\u001b[0;34m\"Height\"\u001b[0m\u001b[0;34m]\u001b[0m\u001b[0;34m+\u001b[0m\u001b[0;36m63\u001b[0m\u001b[0;34m\u001b[0m\u001b[0;34m\u001b[0m\u001b[0m\n\u001b[1;32m      2\u001b[0m \u001b[0mInfo\u001b[0m\u001b[0;34m[\u001b[0m\u001b[0;34m\"Width_Final\"\u001b[0m\u001b[0;34m]\u001b[0m \u001b[0;34m=\u001b[0m \u001b[0mInfo\u001b[0m\u001b[0;34m[\u001b[0m\u001b[0;34m\"Width\"\u001b[0m\u001b[0;34m]\u001b[0m\u001b[0;34m+\u001b[0m\u001b[0;36m63\u001b[0m\u001b[0;34m\u001b[0m\u001b[0;34m\u001b[0m\u001b[0m\n\u001b[0;32m----> 3\u001b[0;31m \u001b[0mInfo\u001b[0m\u001b[0;34m.\u001b[0m\u001b[0mdrop\u001b[0m\u001b[0;34m(\u001b[0m\u001b[0mInfo\u001b[0m\u001b[0;34m.\u001b[0m\u001b[0mloc\u001b[0m\u001b[0;34m[\u001b[0m\u001b[0;34m(\u001b[0m\u001b[0mInfo\u001b[0m\u001b[0;34m[\u001b[0m\u001b[0;34m\"Height_Final\"\u001b[0m\u001b[0;34m]\u001b[0m\u001b[0;34m>\u001b[0m\u001b[0mcte_height\u001b[0m\u001b[0;34m)\u001b[0m\u001b[0;34m|\u001b[0m\u001b[0;34m(\u001b[0m\u001b[0mInfo\u001b[0m\u001b[0;34m[\u001b[0m\u001b[0;34m\"Width_Final\"\u001b[0m\u001b[0;34m]\u001b[0m\u001b[0;34m>\u001b[0m\u001b[0mcte_width\u001b[0m\u001b[0;34m)\u001b[0m\u001b[0;34m]\u001b[0m\u001b[0;34m.\u001b[0m\u001b[0mindex\u001b[0m\u001b[0;34m,\u001b[0m\u001b[0minplace\u001b[0m\u001b[0;34m=\u001b[0m\u001b[0;32mTrue\u001b[0m\u001b[0;34m)\u001b[0m\u001b[0;34m\u001b[0m\u001b[0;34m\u001b[0m\u001b[0m\n\u001b[0m\u001b[1;32m      4\u001b[0m \u001b[0mInfo\u001b[0m\u001b[0;34m.\u001b[0m\u001b[0mdrop\u001b[0m\u001b[0;34m(\u001b[0m\u001b[0mcolumns\u001b[0m\u001b[0;34m=\u001b[0m\u001b[0;34m[\u001b[0m\u001b[0;34m'Height_Final'\u001b[0m\u001b[0;34m,\u001b[0m\u001b[0;34m\"Width_Final\"\u001b[0m\u001b[0;34m]\u001b[0m\u001b[0;34m,\u001b[0m\u001b[0minplace\u001b[0m\u001b[0;34m=\u001b[0m\u001b[0;32mTrue\u001b[0m\u001b[0;34m)\u001b[0m\u001b[0;34m\u001b[0m\u001b[0;34m\u001b[0m\u001b[0m\n",
      "\u001b[0;31mNameError\u001b[0m: name 'cte_height' is not defined"
     ]
    }
   ],
   "source": [
    "Info[\"Height_Final\"] = Info[\"Height\"]+63\n",
    "Info[\"Width_Final\"] = Info[\"Width\"]+63\n",
    "Info.drop(Info.loc[(Info[\"Height_Final\"]>cte_height)|(Info[\"Width_Final\"]>cte_width)].index,inplace=True)\n",
    "Info.drop(columns=['Height_Final',\"Width_Final\"],inplace=True)"
   ]
  },
  {
   "cell_type": "code",
   "execution_count": 8,
   "metadata": {},
   "outputs": [],
   "source": [
    "Info = Info.loc[Info['Origem'].str.contains(\"Crow\")].copy()"
   ]
  },
  {
   "cell_type": "code",
   "execution_count": 8,
   "metadata": {},
   "outputs": [],
   "source": [
    "#parkjoy = np.fromfile('./Videos/ParkJoy_1920x1080_50_8bit_420.yuv',dtype='uint8')\n",
    "#rushhour= np.fromfile('./Videos/RushHour_1920x1080_25_8bit_420.yuv',dtype='uint8')\n",
    "#oldtown = np.fromfile('./Videos/OldTownCross_1920x1080_50_8bit_420.yuv',dtype='uint8')\n",
    "#ducks = np.fromfile('./Videos/DucksTakeOff_1920x1080_50_8bit_420.yuv',dtype='uint8')\n",
    "crowdrun = np.fromfile('./Videos/Crowdrun_1920x1080_50_8bit_420.yuv',dtype='uint8')\n",
    "#sunflower = np.fromfile('./Videos/Sunflower_1920x1080_25_8bit_420.yuv',dtype='uint8')"
   ]
  },
  {
   "cell_type": "code",
   "execution_count": 9,
   "metadata": {},
   "outputs": [],
   "source": [
    "#Map = {\"OldTown\":oldtown,'Crowdrun':crowdrun,'SunFlower':sunflower,\"ParkJoy\":parkjoy,'RushHour':rushhour}\n",
    "Map = {'Crowdrun':crowdrun}"
   ]
  },
  {
   "cell_type": "code",
   "execution_count": 10,
   "metadata": {},
   "outputs": [],
   "source": [
    "def generate_input(row,cte_height,cte_width):\n",
    "    begin_Frame = int(row['Frame'])*(cte_height*cte_width + cte_height*cte_width/2)\n",
    "    end_Frame = (int(row['Frame']))*(cte_height*cte_width + cte_height*cte_width/2)+cte_height*cte_width\n",
    "    begin_Frame = int(begin_Frame)\n",
    "    end_Frame = int(end_Frame)\n",
    "    Input = (Map[row['Origem']][begin_Frame:end_Frame].reshape([cte_height,cte_width]))[row['Height']:row['Height']+64,row['Width']:row['Width']+64]\n",
    "    return np.append(Input.reshape(1,64*64)[0],row[\"QP\"])"
   ]
  },
  {
   "cell_type": "code",
   "execution_count": 11,
   "metadata": {},
   "outputs": [],
   "source": [
    "Info[\"INPUT\"] = Info.apply(lambda x : generate_input(x,cte_height,cte_width),axis=1)"
   ]
  },
  {
   "cell_type": "code",
   "execution_count": 13,
   "metadata": {},
   "outputs": [],
   "source": [
    "Info.to_csv(\"./Depth_0/Crowdrun1\")"
   ]
  },
  {
   "cell_type": "code",
   "execution_count": null,
   "metadata": {},
   "outputs": [],
   "source": []
  },
  {
   "cell_type": "code",
   "execution_count": null,
   "metadata": {},
   "outputs": [],
   "source": []
  }
 ],
 "metadata": {
  "kernelspec": {
   "display_name": "Python 3",
   "language": "python",
   "name": "python3"
  },
  "language_info": {
   "codemirror_mode": {
    "name": "ipython",
    "version": 3
   },
   "file_extension": ".py",
   "mimetype": "text/x-python",
   "name": "python",
   "nbconvert_exporter": "python",
   "pygments_lexer": "ipython3",
   "version": "3.6.8"
  }
 },
 "nbformat": 4,
 "nbformat_minor": 2
}
