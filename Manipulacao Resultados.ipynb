{
 "cells": [
  {
   "cell_type": "code",
   "execution_count": 1,
   "metadata": {},
   "outputs": [],
   "source": [
    "import pandas as pd\n",
    "import numpy as np\n",
    "import os\n",
    "import cv2\n",
    "from pandas.plotting import table\n",
    "import matplotlib.pyplot as plt"
   ]
  },
  {
   "cell_type": "raw",
   "metadata": {},
   "source": [
    "os.chdir(\"split with depths/\")\n",
    "print(os.getcwd())"
   ]
  },
  {
   "cell_type": "code",
   "execution_count": 2,
   "metadata": {},
   "outputs": [],
   "source": [
    "cte_height = 1080;\n",
    "cte_width = 1920;"
   ]
  },
  {
   "cell_type": "raw",
   "metadata": {},
   "source": [
    "diretorios = pd.Series(os.listdir())\n",
    "Informacoes = pd.DataFrame(data=[],columns=['Origem','Frame','Height','Width','QP','Split'])"
   ]
  },
  {
   "cell_type": "raw",
   "metadata": {},
   "source": [
    "diretorios"
   ]
  },
  {
   "cell_type": "raw",
   "metadata": {},
   "source": [
    "for diretorio in diretorios:\n",
    "    string = './'+diretorio\n",
    "    os.chdir(string)\n",
    "    print('Entering: ' + os.getcwd())\n",
    "    files = os.listdir('./')\n",
    "    os.getcwd().split(\" \")[-1]\n",
    "    Arquivos = pd.DataFrame(files,columns=['Arquivos'])\n",
    "    Arquivos = Arquivos.loc[Arquivos['Arquivos'].str.contains(\"Depth_0\")]\n",
    "    Arquivos['From'] = os.getcwd().split(\" \")[-1]\n",
    "    Arquivos['From'] = Arquivos['From'].str.extract(\"/(w*)\")\n",
    "    for i in range(Arquivos.shape[0]):\n",
    "        txt = Arquivos.iloc[i,0]\n",
    "        temporario = pd.read_csv(txt,sep='\\n',header = None,names=['info'])\n",
    "        origem = Arquivos.iloc[0,1]\n",
    "        temporario['Origem'] = origem\n",
    "        temporario['Frame'] = txt\n",
    "        temporario['Frame'] = temporario['Frame'].str.extract('frame_(\\d*)')\n",
    "        temporario['Height'] = temporario['info'].str.extract('\\(\\s*(\\d*)')\n",
    "        temporario['Weight'] = temporario['info'].str.extract(',\\s*(\\d*)')\n",
    "        temporario['QP'] = temporario['info'].str.extract('QP\\s=\\s(\\d*)')\n",
    "        temporario['Split'] = temporario['info'].str.extract('(\\d)\\s$')\n",
    "        temporario.drop(columns=['info'],inplace=True)\n",
    "        Informacoes = pd.concat([Informacoes,temporario],ignore_index=True)\n",
    "    print('\\nArquivos que ja foram:',end='')\n",
    "    print(Informacoes['Origem'].unique())\n",
    "    print()\n",
    "    print('Finished: ' + os.getcwd())\n",
    "    os.chdir('..')"
   ]
  },
  {
   "cell_type": "raw",
   "metadata": {},
   "source": [
    "Informacoes['Origem'].unique()"
   ]
  },
  {
   "cell_type": "raw",
   "metadata": {},
   "source": [
    "Informacoes['QP'].unique()"
   ]
  },
  {
   "cell_type": "raw",
   "metadata": {},
   "source": [
    "Informacoes.to_csv(\"Dataset\")"
   ]
  },
  {
   "cell_type": "raw",
   "metadata": {},
   "source": [
    "Informacoes = pd.read_csv(\"Dataset\")"
   ]
  },
  {
   "cell_type": "markdown",
   "metadata": {},
   "source": [
    "Aqui nos lemos o dataset que dividimos em 4 partes para caber no Github"
   ]
  },
  {
   "cell_type": "code",
   "execution_count": 3,
   "metadata": {},
   "outputs": [],
   "source": [
    "Info1 = pd.read_csv(\"Depth0_part1\")\n",
    "Info2 = pd.read_csv(\"Depth0_part2\")\n",
    "Info3 = pd.read_csv(\"Depth0_part3\")\n",
    "Info4 = pd.read_csv(\"Depth0_part4\")\n",
    "Informacoes = pd.concat([Info1,Info2,Info3,Info4])"
   ]
  },
  {
   "cell_type": "code",
   "execution_count": 4,
   "metadata": {},
   "outputs": [],
   "source": [
    "Informacoes.set_index(\"index\",inplace=True)"
   ]
  },
  {
   "cell_type": "code",
   "execution_count": 5,
   "metadata": {},
   "outputs": [
    {
     "data": {
      "text/html": [
       "<div>\n",
       "<style scoped>\n",
       "    .dataframe tbody tr th:only-of-type {\n",
       "        vertical-align: middle;\n",
       "    }\n",
       "\n",
       "    .dataframe tbody tr th {\n",
       "        vertical-align: top;\n",
       "    }\n",
       "\n",
       "    .dataframe thead th {\n",
       "        text-align: right;\n",
       "    }\n",
       "</style>\n",
       "<table border=\"1\" class=\"dataframe\">\n",
       "  <thead>\n",
       "    <tr style=\"text-align: right;\">\n",
       "      <th></th>\n",
       "      <th>Origem</th>\n",
       "      <th>Frame</th>\n",
       "      <th>Height</th>\n",
       "      <th>Weight</th>\n",
       "      <th>QP</th>\n",
       "      <th>Split</th>\n",
       "    </tr>\n",
       "    <tr>\n",
       "      <th>index</th>\n",
       "      <th></th>\n",
       "      <th></th>\n",
       "      <th></th>\n",
       "      <th></th>\n",
       "      <th></th>\n",
       "      <th></th>\n",
       "    </tr>\n",
       "  </thead>\n",
       "  <tbody>\n",
       "    <tr>\n",
       "      <th>0</th>\n",
       "      <td>Crowdrun</td>\n",
       "      <td>323</td>\n",
       "      <td>0</td>\n",
       "      <td>0</td>\n",
       "      <td>41</td>\n",
       "      <td>1</td>\n",
       "    </tr>\n",
       "    <tr>\n",
       "      <th>1</th>\n",
       "      <td>Crowdrun</td>\n",
       "      <td>323</td>\n",
       "      <td>0</td>\n",
       "      <td>64</td>\n",
       "      <td>41</td>\n",
       "      <td>1</td>\n",
       "    </tr>\n",
       "    <tr>\n",
       "      <th>2</th>\n",
       "      <td>Crowdrun</td>\n",
       "      <td>323</td>\n",
       "      <td>0</td>\n",
       "      <td>128</td>\n",
       "      <td>41</td>\n",
       "      <td>0</td>\n",
       "    </tr>\n",
       "    <tr>\n",
       "      <th>3</th>\n",
       "      <td>Crowdrun</td>\n",
       "      <td>323</td>\n",
       "      <td>0</td>\n",
       "      <td>192</td>\n",
       "      <td>41</td>\n",
       "      <td>0</td>\n",
       "    </tr>\n",
       "    <tr>\n",
       "      <th>4</th>\n",
       "      <td>Crowdrun</td>\n",
       "      <td>323</td>\n",
       "      <td>0</td>\n",
       "      <td>256</td>\n",
       "      <td>41</td>\n",
       "      <td>0</td>\n",
       "    </tr>\n",
       "  </tbody>\n",
       "</table>\n",
       "</div>"
      ],
      "text/plain": [
       "         Origem  Frame  Height  Weight  QP  Split\n",
       "index                                            \n",
       "0      Crowdrun    323       0       0  41      1\n",
       "1      Crowdrun    323       0      64  41      1\n",
       "2      Crowdrun    323       0     128  41      0\n",
       "3      Crowdrun    323       0     192  41      0\n",
       "4      Crowdrun    323       0     256  41      0"
      ]
     },
     "execution_count": 5,
     "metadata": {},
     "output_type": "execute_result"
    }
   ],
   "source": [
    "Informacoes.head()"
   ]
  },
  {
   "cell_type": "code",
   "execution_count": 7,
   "metadata": {},
   "outputs": [
    {
     "data": {
      "image/png": "[encoded data removed]",
      "text/plain": [
       "<Figure size 432x288 with 1 Axes>"
      ]
     },
     "metadata": {
      "needs_background": "light"
     },
     "output_type": "display_data"
    }
   ],
   "source": [
    "oi = Informacoes['QP'].hist()"
   ]
  },
  {
   "cell_type": "code",
   "execution_count": 8,
   "metadata": {},
   "outputs": [
    {
     "data": {
      "text/plain": [
       "'/home/tomas/Desktop/UNB/Deeplearning_Video_Compressing'"
      ]
     },
     "execution_count": 8,
     "metadata": {},
     "output_type": "execute_result"
    }
   ],
   "source": [
    "os.getcwd()"
   ]
  },
  {
   "cell_type": "markdown",
   "metadata": {},
   "source": [
    "Lemos os videos para podermos mapear o canal Y de cada frame"
   ]
  },
  {
   "cell_type": "code",
   "execution_count": 9,
   "metadata": {},
   "outputs": [],
   "source": [
    "parkjoy = np.fromfile('./Videos/ParkJoy_1920x1080_50_8bit_420.yuv',dtype='uint8')\n",
    "rushhour= np.fromfile('./Videos/RushHour_1920x1080_25_8bit_420.yuv',dtype='uint8')\n",
    "oldtown = np.fromfile('./Videos/OldTownCross_1920x1080_50_8bit_420.yuv',dtype='uint8')\n",
    "ducks = np.fromfile('./Videos/DucksTakeOff_1920x1080_50_8bit_420.yuv',dtype='uint8')\n",
    "crowdrun = np.fromfile('./Videos/Crowdrun_1920x1080_50_8bit_420.yuv',dtype='uint8')\n",
    "sunflower = np.fromfile('./Videos/Sunflower_1920x1080_25_8bit_420.yuv',dtype='uint8')"
   ]
  },
  {
   "cell_type": "code",
   "execution_count": 10,
   "metadata": {},
   "outputs": [
    {
     "data": {
      "text/plain": [
       "(1555200000,)"
      ]
     },
     "execution_count": 10,
     "metadata": {},
     "output_type": "execute_result"
    }
   ],
   "source": [
    "crowdrun.shape"
   ]
  },
  {
   "cell_type": "code",
   "execution_count": 11,
   "metadata": {},
   "outputs": [
    {
     "data": {
      "text/plain": [
       "(1555200000,)"
      ]
     },
     "execution_count": 11,
     "metadata": {},
     "output_type": "execute_result"
    }
   ],
   "source": [
    "parkjoy.shape"
   ]
  },
  {
   "cell_type": "code",
   "execution_count": 12,
   "metadata": {},
   "outputs": [
    {
     "data": {
      "text/plain": [
       "(1555200000,)"
      ]
     },
     "execution_count": 12,
     "metadata": {},
     "output_type": "execute_result"
    }
   ],
   "source": [
    "rushhour.shape"
   ]
  },
  {
   "cell_type": "code",
   "execution_count": 13,
   "metadata": {},
   "outputs": [
    {
     "data": {
      "text/plain": [
       "(1555200000,)"
      ]
     },
     "execution_count": 13,
     "metadata": {},
     "output_type": "execute_result"
    }
   ],
   "source": [
    "oldtown.shape"
   ]
  },
  {
   "cell_type": "code",
   "execution_count": 14,
   "metadata": {},
   "outputs": [
    {
     "data": {
      "text/plain": [
       "(1555200000,)"
      ]
     },
     "execution_count": 14,
     "metadata": {},
     "output_type": "execute_result"
    }
   ],
   "source": [
    "ducks.shape"
   ]
  },
  {
   "cell_type": "code",
   "execution_count": 15,
   "metadata": {},
   "outputs": [
    {
     "data": {
      "text/plain": [
       "(1555200000,)"
      ]
     },
     "execution_count": 15,
     "metadata": {},
     "output_type": "execute_result"
    }
   ],
   "source": [
    "crowdrun.shape"
   ]
  },
  {
   "cell_type": "code",
   "execution_count": 16,
   "metadata": {},
   "outputs": [
    {
     "data": {
      "text/plain": [
       "(1555200000,)"
      ]
     },
     "execution_count": 16,
     "metadata": {},
     "output_type": "execute_result"
    }
   ],
   "source": [
    "sunflower.shape"
   ]
  },
  {
   "cell_type": "code",
   "execution_count": 17,
   "metadata": {},
   "outputs": [],
   "source": [
    "Informacoes = Informacoes.sample(frac=1)"
   ]
  },
  {
   "cell_type": "code",
   "execution_count": 18,
   "metadata": {},
   "outputs": [],
   "source": [
    "Data_Validation = Informacoes.iloc[int(4*Informacoes.shape[0]/5):].copy()"
   ]
  },
  {
   "cell_type": "code",
   "execution_count": 19,
   "metadata": {},
   "outputs": [],
   "source": [
    "Test_set = Informacoes.iloc[int(3*Informacoes.shape[0]/5):int(4*Informacoes.shape[0]/5)].copy()"
   ]
  },
  {
   "cell_type": "code",
   "execution_count": 20,
   "metadata": {},
   "outputs": [],
   "source": [
    "Training_set = Informacoes.iloc[:int(3*Informacoes.shape[0]/5)].copy()"
   ]
  },
  {
   "cell_type": "code",
   "execution_count": 22,
   "metadata": {},
   "outputs": [
    {
     "data": {
      "text/html": [
       "<div>\n",
       "<style scoped>\n",
       "    .dataframe tbody tr th:only-of-type {\n",
       "        vertical-align: middle;\n",
       "    }\n",
       "\n",
       "    .dataframe tbody tr th {\n",
       "        vertical-align: top;\n",
       "    }\n",
       "\n",
       "    .dataframe thead th {\n",
       "        text-align: right;\n",
       "    }\n",
       "</style>\n",
       "<table border=\"1\" class=\"dataframe\">\n",
       "  <thead>\n",
       "    <tr style=\"text-align: right;\">\n",
       "      <th></th>\n",
       "      <th>Origem</th>\n",
       "      <th>Frame</th>\n",
       "      <th>Height</th>\n",
       "      <th>Weight</th>\n",
       "      <th>QP</th>\n",
       "      <th>Split</th>\n",
       "    </tr>\n",
       "    <tr>\n",
       "      <th>index</th>\n",
       "      <th></th>\n",
       "      <th></th>\n",
       "      <th></th>\n",
       "      <th></th>\n",
       "      <th></th>\n",
       "      <th></th>\n",
       "    </tr>\n",
       "  </thead>\n",
       "  <tbody>\n",
       "    <tr>\n",
       "      <th>3074825</th>\n",
       "      <td>Ducks</td>\n",
       "      <td>116</td>\n",
       "      <td>64</td>\n",
       "      <td>320</td>\n",
       "      <td>38</td>\n",
       "      <td>1</td>\n",
       "    </tr>\n",
       "    <tr>\n",
       "      <th>1857749</th>\n",
       "      <td>ParkJoy</td>\n",
       "      <td>154</td>\n",
       "      <td>640</td>\n",
       "      <td>1856</td>\n",
       "      <td>27</td>\n",
       "      <td>1</td>\n",
       "    </tr>\n",
       "    <tr>\n",
       "      <th>1814245</th>\n",
       "      <td>ParkJoy</td>\n",
       "      <td>57</td>\n",
       "      <td>320</td>\n",
       "      <td>1600</td>\n",
       "      <td>29</td>\n",
       "      <td>1</td>\n",
       "    </tr>\n",
       "    <tr>\n",
       "      <th>1381050</th>\n",
       "      <td>OldTown</td>\n",
       "      <td>112</td>\n",
       "      <td>1024</td>\n",
       "      <td>0</td>\n",
       "      <td>28</td>\n",
       "      <td>1</td>\n",
       "    </tr>\n",
       "    <tr>\n",
       "      <th>284467</th>\n",
       "      <td>SunFlower</td>\n",
       "      <td>57</td>\n",
       "      <td>832</td>\n",
       "      <td>448</td>\n",
       "      <td>29</td>\n",
       "      <td>0</td>\n",
       "    </tr>\n",
       "  </tbody>\n",
       "</table>\n",
       "</div>"
      ],
      "text/plain": [
       "            Origem  Frame  Height  Weight  QP  Split\n",
       "index                                               \n",
       "3074825      Ducks    116      64     320  38      1\n",
       "1857749    ParkJoy    154     640    1856  27      1\n",
       "1814245    ParkJoy     57     320    1600  29      1\n",
       "1381050    OldTown    112    1024       0  28      1\n",
       "284467   SunFlower     57     832     448  29      0"
      ]
     },
     "execution_count": 22,
     "metadata": {},
     "output_type": "execute_result"
    }
   ],
   "source": [
    "Informacoes.head()"
   ]
  },
  {
   "cell_type": "code",
   "execution_count": null,
   "metadata": {},
   "outputs": [],
   "source": [
    "Informacoes[\"Height_Final\"] = Informacoes[\"Height\"]+63\n",
    "Informacoes[\"Weight_Final\"] = Informacoes[\"Weight\"]+63"
   ]
  },
  {
   "cell_type": "code",
   "execution_count": 23,
   "metadata": {},
   "outputs": [],
   "source": [
    "Map = {\"OldTown\":oldtown,'Crowdrun':crowdrun,'SunFlower':sunflower,\"ParkJoy\":parkjoy,'Ducks':ducks,'RushHour':rushhour}"
   ]
  },
  {
   "cell_type": "code",
   "execution_count": 22,
   "metadata": {},
   "outputs": [],
   "source": [
    "Y = np.zeros([cte_height,cte_width], dtype='uint8')"
   ]
  },
  {
   "cell_type": "code",
   "execution_count": 23,
   "metadata": {},
   "outputs": [
    {
     "data": {
      "text/plain": [
       "(1080, 1920)"
      ]
     },
     "execution_count": 23,
     "metadata": {},
     "output_type": "execute_result"
    }
   ],
   "source": [
    "Y.shape"
   ]
  },
  {
   "cell_type": "code",
   "execution_count": 55,
   "metadata": {},
   "outputs": [],
   "source": [
    "begin_Frame = int(Training_set.iloc[0]['Frame'])*(cte_height*cte_width + cte_height*cte_width/2)\n",
    "end_Frame = (int(Training_set.iloc[0]['Frame']))*(cte_height*cte_width + cte_height*cte_width/2)+cte_height*cte_width"
   ]
  },
  {
   "cell_type": "code",
   "execution_count": 56,
   "metadata": {},
   "outputs": [],
   "source": [
    "begin_Frame = int(begin_Frame)\n",
    "end_Frame = int(end_Frame)"
   ]
  },
  {
   "cell_type": "code",
   "execution_count": 57,
   "metadata": {},
   "outputs": [
    {
     "data": {
      "text/plain": [
       "'OldTown'"
      ]
     },
     "execution_count": 57,
     "metadata": {},
     "output_type": "execute_result"
    }
   ],
   "source": [
    "Training_set.iloc[2]['Origem']"
   ]
  },
  {
   "cell_type": "code",
   "execution_count": 58,
   "metadata": {},
   "outputs": [],
   "source": [
    "Input = Map[Training_set.iloc[2]['Origem']][begin_Frame:end_Frame].reshape([cte_height,cte_width])"
   ]
  },
  {
   "cell_type": "code",
   "execution_count": 59,
   "metadata": {},
   "outputs": [
    {
     "data": {
      "text/plain": [
       "array([[157, 156, 159, ..., 159, 153, 158],\n",
       "       [158, 156, 156, ..., 159, 154, 152],\n",
       "       [163, 161, 156, ..., 156, 156, 155],\n",
       "       ...,\n",
       "       [ 58,  57,  53, ...,  97,  93, 104],\n",
       "       [ 54,  49,  51, ..., 100,  97,  95],\n",
       "       [ 49,  53,  50, ...,  96,  99,  96]], dtype=uint8)"
      ]
     },
     "execution_count": 59,
     "metadata": {},
     "output_type": "execute_result"
    }
   ],
   "source": [
    "Input"
   ]
  },
  {
   "cell_type": "code",
   "execution_count": 60,
   "metadata": {},
   "outputs": [
    {
     "data": {
      "text/plain": [
       "True"
      ]
     },
     "execution_count": 60,
     "metadata": {},
     "output_type": "execute_result"
    }
   ],
   "source": [
    "cv2.imwrite('myImage.png',Input)"
   ]
  },
  {
   "cell_type": "code",
   "execution_count": 41,
   "metadata": {},
   "outputs": [
    {
     "data": {
      "text/plain": [
       "numpy.ndarray"
      ]
     },
     "execution_count": 41,
     "metadata": {},
     "output_type": "execute_result"
    }
   ],
   "source": [
    "type(Input)"
   ]
  },
  {
   "cell_type": "code",
   "execution_count": 43,
   "metadata": {},
   "outputs": [
    {
     "data": {
      "text/plain": [
       "Origem    rushhour\n",
       "Frame          344\n",
       "Height         256\n",
       "Weight         192\n",
       "Split            1\n",
       "Name: 436173, dtype: object"
      ]
     },
     "execution_count": 43,
     "metadata": {},
     "output_type": "execute_result"
    }
   ],
   "source": [
    "Training_set.iloc[0]"
   ]
  },
  {
   "cell_type": "code",
   "execution_count": null,
   "metadata": {},
   "outputs": [],
   "source": [
    "Informacoes"
   ]
  },
  {
   "cell_type": "code",
   "execution_count": null,
   "metadata": {},
   "outputs": [],
   "source": []
  }
 ],
 "metadata": {
  "kernelspec": {
   "display_name": "Python 3",
   "language": "python",
   "name": "python3"
  },
  "language_info": {
   "codemirror_mode": {
    "name": "ipython",
    "version": 3
   },
   "file_extension": ".py",
   "mimetype": "text/x-python",
   "name": "python",
   "nbconvert_exporter": "python",
   "pygments_lexer": "ipython3",
   "version": "3.6.8"
  }
 },
 "nbformat": 4,
 "nbformat_minor": 2
}
