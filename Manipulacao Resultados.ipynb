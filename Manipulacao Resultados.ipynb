{
 "cells": [
  {
   "cell_type": "code",
   "execution_count": 1,
   "metadata": {},
   "outputs": [],
   "source": [
    "import pandas as pd\n",
    "import numpy as np\n",
    "import os\n",
    "import cv2\n",
    "from pandas.plotting import table\n",
    "import matplotlib.pyplot as plt\n",
    "from datetime import datetime"
   ]
  },
  {
   "cell_type": "markdown",
   "metadata": {},
   "source": [
    "codigo usado para ler todos os arquivos de saida do programa passado pelo peixoto e transforma-los em um dataset"
   ]
  },
  {
   "cell_type": "code",
   "execution_count": 2,
   "metadata": {},
   "outputs": [
    {
     "name": "stdout",
     "output_type": "stream",
     "text": [
      "/home/tomas/Desktop/TCC/Deeplearning_Video_Compressing/split with depths\n"
     ]
    }
   ],
   "source": [
    "os.chdir(\"split with depths/\")\n",
    "print(os.getcwd())"
   ]
  },
  {
   "cell_type": "code",
   "execution_count": 3,
   "metadata": {},
   "outputs": [],
   "source": [
    "diretorios = pd.Series(os.listdir())\n",
    "Informacoes = pd.DataFrame(data=[],columns=['Origem','Frame','Height','Width','QP','Split'])"
   ]
  },
  {
   "cell_type": "code",
   "execution_count": 4,
   "metadata": {},
   "outputs": [
    {
     "name": "stdout",
     "output_type": "stream",
     "text": [
      "Entering: /home/tomas/Desktop/TCC/Deeplearning_Video_Compressing/split with depths/SunFlower22\n",
      "\n",
      "Arquivos que ja foram:['SunFlower']\n",
      "\n",
      " TOTAL:1\n",
      "<class 'pandas.core.frame.DataFrame'>\n",
      "RangeIndex: 255000 entries, 0 to 254999\n",
      "Columns: 6 entries, Origem to Split\n",
      "dtypes: object(1), uint16(3), uint8(2)\n",
      "memory usage: 18.0 MB\n",
      "None\n",
      "02:36\n",
      "\n",
      "Finished: /home/tomas/Desktop/TCC/Deeplearning_Video_Compressing/split with depths/SunFlower22\n",
      "Entering: /home/tomas/Desktop/TCC/Deeplearning_Video_Compressing/split with depths/OldTown32\n",
      "\n",
      "Arquivos que ja foram:['SunFlower' 'OldTown']\n",
      "\n",
      " TOTAL:2\n",
      "<class 'pandas.core.frame.DataFrame'>\n",
      "RangeIndex: 510000 entries, 0 to 509999\n",
      "Columns: 6 entries, Origem to Split\n",
      "dtypes: object(1), uint16(3), uint8(2)\n",
      "memory usage: 35.5 MB\n",
      "None\n",
      "02:36\n",
      "\n",
      "Finished: /home/tomas/Desktop/TCC/Deeplearning_Video_Compressing/split with depths/OldTown32\n",
      "Entering: /home/tomas/Desktop/TCC/Deeplearning_Video_Compressing/split with depths/SunFlower37\n",
      "\n",
      "Arquivos que ja foram:['SunFlower' 'OldTown']\n",
      "\n",
      " TOTAL:3\n",
      "<class 'pandas.core.frame.DataFrame'>\n",
      "RangeIndex: 765000 entries, 0 to 764999\n",
      "Columns: 6 entries, Origem to Split\n",
      "dtypes: object(1), uint16(3), uint8(2)\n",
      "memory usage: 53.5 MB\n",
      "None\n",
      "02:37\n",
      "\n",
      "Finished: /home/tomas/Desktop/TCC/Deeplearning_Video_Compressing/split with depths/SunFlower37\n",
      "Entering: /home/tomas/Desktop/TCC/Deeplearning_Video_Compressing/split with depths/Crowdrun22\n",
      "\n",
      "Arquivos que ja foram:['SunFlower' 'OldTown' 'Crowdrun']\n",
      "\n",
      " TOTAL:4\n",
      "<class 'pandas.core.frame.DataFrame'>\n",
      "RangeIndex: 1020000 entries, 0 to 1019999\n",
      "Columns: 6 entries, Origem to Split\n",
      "dtypes: object(1), uint16(3), uint8(2)\n",
      "memory usage: 71.3 MB\n",
      "None\n",
      "02:37\n",
      "\n",
      "Finished: /home/tomas/Desktop/TCC/Deeplearning_Video_Compressing/split with depths/Crowdrun22\n",
      "Entering: /home/tomas/Desktop/TCC/Deeplearning_Video_Compressing/split with depths/ParkJoy37\n",
      "\n",
      "Arquivos que ja foram:['SunFlower' 'OldTown' 'Crowdrun' 'ParkJoy']\n",
      "\n",
      " TOTAL:5\n",
      "<class 'pandas.core.frame.DataFrame'>\n",
      "RangeIndex: 1275000 entries, 0 to 1274999\n",
      "Columns: 6 entries, Origem to Split\n",
      "dtypes: object(1), uint16(3), uint8(2)\n",
      "memory usage: 88.8 MB\n",
      "None\n",
      "02:38\n",
      "\n",
      "Finished: /home/tomas/Desktop/TCC/Deeplearning_Video_Compressing/split with depths/ParkJoy37\n",
      "Entering: /home/tomas/Desktop/TCC/Deeplearning_Video_Compressing/split with depths/RushHour37\n",
      "\n",
      "Arquivos que ja foram:['SunFlower' 'OldTown' 'Crowdrun' 'ParkJoy' 'RushHour']\n",
      "\n",
      " TOTAL:6\n",
      "<class 'pandas.core.frame.DataFrame'>\n",
      "RangeIndex: 1530000 entries, 0 to 1529999\n",
      "Columns: 6 entries, Origem to Split\n",
      "dtypes: object(1), uint16(3), uint8(2)\n",
      "memory usage: 106.5 MB\n",
      "None\n",
      "02:39\n",
      "\n",
      "Finished: /home/tomas/Desktop/TCC/Deeplearning_Video_Compressing/split with depths/RushHour37\n",
      "Entering: /home/tomas/Desktop/TCC/Deeplearning_Video_Compressing/split with depths/Ducks27\n",
      "\n",
      "Arquivos que ja foram:['SunFlower' 'OldTown' 'Crowdrun' 'ParkJoy' 'RushHour' 'Ducks']\n",
      "\n",
      " TOTAL:7\n",
      "<class 'pandas.core.frame.DataFrame'>\n",
      "RangeIndex: 1785000 entries, 0 to 1784999\n",
      "Columns: 6 entries, Origem to Split\n",
      "dtypes: object(1), uint16(3), uint8(2)\n",
      "memory usage: 123.5 MB\n",
      "None\n",
      "02:39\n",
      "\n",
      "Finished: /home/tomas/Desktop/TCC/Deeplearning_Video_Compressing/split with depths/Ducks27\n",
      "Entering: /home/tomas/Desktop/TCC/Deeplearning_Video_Compressing/split with depths/SunFlower27\n",
      "\n",
      "Arquivos que ja foram:['SunFlower' 'OldTown' 'Crowdrun' 'ParkJoy' 'RushHour' 'Ducks']\n",
      "\n",
      " TOTAL:8\n",
      "<class 'pandas.core.frame.DataFrame'>\n",
      "RangeIndex: 2040000 entries, 0 to 2039999\n",
      "Columns: 6 entries, Origem to Split\n",
      "dtypes: object(1), uint16(3), uint8(2)\n",
      "memory usage: 141.5 MB\n",
      "None\n",
      "02:40\n",
      "\n",
      "Finished: /home/tomas/Desktop/TCC/Deeplearning_Video_Compressing/split with depths/SunFlower27\n",
      "Entering: /home/tomas/Desktop/TCC/Deeplearning_Video_Compressing/split with depths/Crowdrun37\n",
      "\n",
      "Arquivos que ja foram:['SunFlower' 'OldTown' 'Crowdrun' 'ParkJoy' 'RushHour' 'Ducks']\n",
      "\n",
      " TOTAL:9\n",
      "<class 'pandas.core.frame.DataFrame'>\n",
      "RangeIndex: 2295000 entries, 0 to 2294999\n",
      "Columns: 6 entries, Origem to Split\n",
      "dtypes: object(1), uint16(3), uint8(2)\n",
      "memory usage: 159.3 MB\n",
      "None\n",
      "02:41\n",
      "\n",
      "Finished: /home/tomas/Desktop/TCC/Deeplearning_Video_Compressing/split with depths/Crowdrun37\n",
      "Entering: /home/tomas/Desktop/TCC/Deeplearning_Video_Compressing/split with depths/RushHour22\n",
      "\n",
      "Arquivos que ja foram:['SunFlower' 'OldTown' 'Crowdrun' 'ParkJoy' 'RushHour' 'Ducks']\n",
      "\n",
      " TOTAL:10\n",
      "<class 'pandas.core.frame.DataFrame'>\n",
      "RangeIndex: 2550000 entries, 0 to 2549999\n",
      "Columns: 6 entries, Origem to Split\n",
      "dtypes: object(1), uint16(3), uint8(2)\n",
      "memory usage: 177.0 MB\n",
      "None\n",
      "02:43\n",
      "\n",
      "Finished: /home/tomas/Desktop/TCC/Deeplearning_Video_Compressing/split with depths/RushHour22\n",
      "Entering: /home/tomas/Desktop/TCC/Deeplearning_Video_Compressing/split with depths/Crowdrun27\n",
      "\n",
      "Arquivos que ja foram:['SunFlower' 'OldTown' 'Crowdrun' 'ParkJoy' 'RushHour' 'Ducks']\n",
      "\n",
      " TOTAL:11\n",
      "<class 'pandas.core.frame.DataFrame'>\n",
      "RangeIndex: 2805000 entries, 0 to 2804999\n",
      "Columns: 6 entries, Origem to Split\n",
      "dtypes: object(1), uint16(3), uint8(2)\n",
      "memory usage: 194.8 MB\n",
      "None\n",
      "02:44\n",
      "\n",
      "Finished: /home/tomas/Desktop/TCC/Deeplearning_Video_Compressing/split with depths/Crowdrun27\n",
      "Entering: /home/tomas/Desktop/TCC/Deeplearning_Video_Compressing/split with depths/ParkJoy32\n",
      "\n",
      "Arquivos que ja foram:['SunFlower' 'OldTown' 'Crowdrun' 'ParkJoy' 'RushHour' 'Ducks']\n",
      "\n",
      " TOTAL:12\n",
      "<class 'pandas.core.frame.DataFrame'>\n",
      "RangeIndex: 3060000 entries, 0 to 3059999\n",
      "Columns: 6 entries, Origem to Split\n",
      "dtypes: object(1), uint16(3), uint8(2)\n",
      "memory usage: 212.3 MB\n",
      "None\n",
      "02:45\n",
      "\n",
      "Finished: /home/tomas/Desktop/TCC/Deeplearning_Video_Compressing/split with depths/ParkJoy32\n",
      "Entering: /home/tomas/Desktop/TCC/Deeplearning_Video_Compressing/split with depths/RushHour27\n",
      "\n",
      "Arquivos que ja foram:['SunFlower' 'OldTown' 'Crowdrun' 'ParkJoy' 'RushHour' 'Ducks']\n",
      "\n",
      " TOTAL:13\n",
      "<class 'pandas.core.frame.DataFrame'>\n",
      "RangeIndex: 3315000 entries, 0 to 3314999\n",
      "Columns: 6 entries, Origem to Split\n",
      "dtypes: object(1), uint16(3), uint8(2)\n",
      "memory usage: 230.1 MB\n",
      "None\n",
      "02:47\n",
      "\n",
      "Finished: /home/tomas/Desktop/TCC/Deeplearning_Video_Compressing/split with depths/RushHour27\n",
      "Entering: /home/tomas/Desktop/TCC/Deeplearning_Video_Compressing/split with depths/OldTown27\n",
      "\n",
      "Arquivos que ja foram:['SunFlower' 'OldTown' 'Crowdrun' 'ParkJoy' 'RushHour' 'Ducks']\n",
      "\n",
      " TOTAL:14\n",
      "<class 'pandas.core.frame.DataFrame'>\n",
      "RangeIndex: 3570000 entries, 0 to 3569999\n",
      "Columns: 6 entries, Origem to Split\n",
      "dtypes: object(1), uint16(3), uint8(2)\n",
      "memory usage: 247.6 MB\n",
      "None\n",
      "02:48\n",
      "\n",
      "Finished: /home/tomas/Desktop/TCC/Deeplearning_Video_Compressing/split with depths/OldTown27\n",
      "Entering: /home/tomas/Desktop/TCC/Deeplearning_Video_Compressing/split with depths/RushHour32\n",
      "\n",
      "Arquivos que ja foram:['SunFlower' 'OldTown' 'Crowdrun' 'ParkJoy' 'RushHour' 'Ducks']\n",
      "\n",
      " TOTAL:15\n",
      "<class 'pandas.core.frame.DataFrame'>\n",
      "RangeIndex: 3825000 entries, 0 to 3824999\n",
      "Columns: 6 entries, Origem to Split\n",
      "dtypes: object(1), uint16(3), uint8(2)\n",
      "memory usage: 265.3 MB\n",
      "None\n",
      "02:50\n",
      "\n",
      "Finished: /home/tomas/Desktop/TCC/Deeplearning_Video_Compressing/split with depths/RushHour32\n",
      "Entering: /home/tomas/Desktop/TCC/Deeplearning_Video_Compressing/split with depths/ParkJoy27\n",
      "\n",
      "Arquivos que ja foram:['SunFlower' 'OldTown' 'Crowdrun' 'ParkJoy' 'RushHour' 'Ducks']\n",
      "\n",
      " TOTAL:16\n",
      "<class 'pandas.core.frame.DataFrame'>\n",
      "RangeIndex: 4080000 entries, 0 to 4079999\n",
      "Columns: 6 entries, Origem to Split\n",
      "dtypes: object(1), uint16(3), uint8(2)\n",
      "memory usage: 282.8 MB\n",
      "None\n",
      "02:52\n",
      "\n",
      "Finished: /home/tomas/Desktop/TCC/Deeplearning_Video_Compressing/split with depths/ParkJoy27\n",
      "Entering: /home/tomas/Desktop/TCC/Deeplearning_Video_Compressing/split with depths/Crowdrun32\n",
      "\n",
      "Arquivos que ja foram:['SunFlower' 'OldTown' 'Crowdrun' 'ParkJoy' 'RushHour' 'Ducks']\n",
      "\n",
      " TOTAL:17\n",
      "<class 'pandas.core.frame.DataFrame'>\n",
      "RangeIndex: 4335000 entries, 0 to 4334999\n",
      "Columns: 6 entries, Origem to Split\n",
      "dtypes: object(1), uint16(3), uint8(2)\n",
      "memory usage: 300.6 MB\n",
      "None\n",
      "02:54\n",
      "\n",
      "Finished: /home/tomas/Desktop/TCC/Deeplearning_Video_Compressing/split with depths/Crowdrun32\n",
      "Entering: /home/tomas/Desktop/TCC/Deeplearning_Video_Compressing/split with depths/Ducks22\n",
      "\n",
      "Arquivos que ja foram:['SunFlower' 'OldTown' 'Crowdrun' 'ParkJoy' 'RushHour' 'Ducks']\n",
      "\n",
      " TOTAL:18\n",
      "<class 'pandas.core.frame.DataFrame'>\n",
      "RangeIndex: 4590000 entries, 0 to 4589999\n",
      "Columns: 6 entries, Origem to Split\n",
      "dtypes: object(1), uint16(3), uint8(2)\n",
      "memory usage: 317.6 MB\n",
      "None\n",
      "02:56\n",
      "\n",
      "Finished: /home/tomas/Desktop/TCC/Deeplearning_Video_Compressing/split with depths/Ducks22\n",
      "Entering: /home/tomas/Desktop/TCC/Deeplearning_Video_Compressing/split with depths/Ducks37\n",
      "\n",
      "Arquivos que ja foram:['SunFlower' 'OldTown' 'Crowdrun' 'ParkJoy' 'RushHour' 'Ducks']\n",
      "\n",
      " TOTAL:19\n",
      "<class 'pandas.core.frame.DataFrame'>\n",
      "RangeIndex: 4845000 entries, 0 to 4844999\n",
      "Columns: 6 entries, Origem to Split\n",
      "dtypes: object(1), uint16(3), uint8(2)\n",
      "memory usage: 334.6 MB\n",
      "None\n",
      "02:58\n",
      "\n",
      "Finished: /home/tomas/Desktop/TCC/Deeplearning_Video_Compressing/split with depths/Ducks37\n",
      "Entering: /home/tomas/Desktop/TCC/Deeplearning_Video_Compressing/split with depths/Ducks32\n",
      "\n",
      "Arquivos que ja foram:['SunFlower' 'OldTown' 'Crowdrun' 'ParkJoy' 'RushHour' 'Ducks']\n",
      "\n",
      " TOTAL:20\n",
      "<class 'pandas.core.frame.DataFrame'>\n",
      "RangeIndex: 5100000 entries, 0 to 5099999\n",
      "Columns: 6 entries, Origem to Split\n",
      "dtypes: object(1), uint16(3), uint8(2)\n",
      "memory usage: 351.6 MB\n",
      "None\n",
      "03:01\n",
      "\n",
      "Finished: /home/tomas/Desktop/TCC/Deeplearning_Video_Compressing/split with depths/Ducks32\n",
      "Entering: /home/tomas/Desktop/TCC/Deeplearning_Video_Compressing/split with depths/OldTown37\n",
      "\n",
      "Arquivos que ja foram:['SunFlower' 'OldTown' 'Crowdrun' 'ParkJoy' 'RushHour' 'Ducks']\n",
      "\n",
      " TOTAL:21\n",
      "<class 'pandas.core.frame.DataFrame'>\n",
      "RangeIndex: 5355000 entries, 0 to 5354999\n",
      "Columns: 6 entries, Origem to Split\n",
      "dtypes: object(1), uint16(3), uint8(2)\n",
      "memory usage: 369.2 MB\n",
      "None\n",
      "03:03\n",
      "\n",
      "Finished: /home/tomas/Desktop/TCC/Deeplearning_Video_Compressing/split with depths/OldTown37\n",
      "Entering: /home/tomas/Desktop/TCC/Deeplearning_Video_Compressing/split with depths/OldTown22\n",
      "\n",
      "Arquivos que ja foram:['SunFlower' 'OldTown' 'Crowdrun' 'ParkJoy' 'RushHour' 'Ducks']\n",
      "\n",
      " TOTAL:22\n",
      "<class 'pandas.core.frame.DataFrame'>\n",
      "RangeIndex: 5610000 entries, 0 to 5609999\n",
      "Columns: 6 entries, Origem to Split\n",
      "dtypes: object(1), uint16(3), uint8(2)\n",
      "memory usage: 386.7 MB\n",
      "None\n",
      "03:06\n",
      "\n",
      "Finished: /home/tomas/Desktop/TCC/Deeplearning_Video_Compressing/split with depths/OldTown22\n",
      "Entering: /home/tomas/Desktop/TCC/Deeplearning_Video_Compressing/split with depths/ParkJoy22\n",
      "\n",
      "Arquivos que ja foram:['SunFlower' 'OldTown' 'Crowdrun' 'ParkJoy' 'RushHour' 'Ducks']\n",
      "\n",
      " TOTAL:23\n",
      "<class 'pandas.core.frame.DataFrame'>\n",
      "RangeIndex: 5865000 entries, 0 to 5864999\n",
      "Columns: 6 entries, Origem to Split\n",
      "dtypes: object(1), uint16(3), uint8(2)\n",
      "memory usage: 404.2 MB\n",
      "None\n",
      "03:08\n",
      "\n",
      "Finished: /home/tomas/Desktop/TCC/Deeplearning_Video_Compressing/split with depths/ParkJoy22\n",
      "Entering: /home/tomas/Desktop/TCC/Deeplearning_Video_Compressing/split with depths/SunFlower32\n",
      "\n",
      "Arquivos que ja foram:['SunFlower' 'OldTown' 'Crowdrun' 'ParkJoy' 'RushHour' 'Ducks']\n",
      "\n",
      " TOTAL:24\n",
      "<class 'pandas.core.frame.DataFrame'>\n",
      "RangeIndex: 6120000 entries, 0 to 6119999\n",
      "Columns: 6 entries, Origem to Split\n",
      "dtypes: object(1), uint16(3), uint8(2)\n",
      "memory usage: 422.2 MB\n",
      "None\n",
      "03:11\n",
      "\n",
      "Finished: /home/tomas/Desktop/TCC/Deeplearning_Video_Compressing/split with depths/SunFlower32\n"
     ]
    }
   ],
   "source": [
    "j =0\n",
    "for diretorio in diretorios:\n",
    "    string = './'+diretorio\n",
    "    os.chdir(string)\n",
    "    print('Entering: ' + os.getcwd())\n",
    "    files = os.listdir('./')\n",
    "    os.getcwd().split(\" \")[-1]\n",
    "    Arquivos = pd.DataFrame(files,columns=['Arquivos'])\n",
    "    Arquivos = Arquivos.loc[Arquivos['Arquivos'].str.contains(\"Depth_0\")]\n",
    "    Arquivos['From'] = os.getcwd().split(\" \")[-1]\n",
    "    Arquivos['From'] = Arquivos['From'].str.extract(\"/([A-Za-z]*)\")\n",
    "    for i in range(Arquivos.shape[0]):\n",
    "        txt = Arquivos.iloc[i,0]\n",
    "        temporario = pd.read_csv(txt,sep='\\n',header = None,names=['info'],engine='c')\n",
    "        origem = Arquivos.iloc[0,1]\n",
    "        temporario['Origem'] = origem\n",
    "        temporario['Frame'] = txt\n",
    "        temporario['Frame'] = temporario['Frame'].str.extract('frame_(\\d*)')\n",
    "        temporario['Height'] = temporario['info'].str.extract('\\(\\s*(\\d*)')\n",
    "        temporario['Width'] = temporario['info'].str.extract(',\\s*(\\d*)')\n",
    "        temporario['QP'] = diretorio[-2:]\n",
    "        temporario['Split'] = temporario['info'].str.extract('(\\d)\\s$')\n",
    "        temporario.drop(columns=['info'],inplace=True)\n",
    "        Informacoes = pd.concat([Informacoes,temporario],ignore_index=True)\n",
    "        del(temporario)\n",
    "    Informacoes['Frame'] = Informacoes['Frame'].astype('uint16')\n",
    "    Informacoes['Height'] = Informacoes['Height'].astype('uint16')\n",
    "    Informacoes['Width'] = Informacoes['Width'].astype('uint16')\n",
    "    Informacoes['QP'] = Informacoes['QP'].astype('uint8')\n",
    "    Informacoes['Split'] = Informacoes['Split'].astype('uint8')\n",
    "    print('\\nArquivos que ja foram:',end='')\n",
    "    print(Informacoes['Origem'].unique())\n",
    "    j+=1\n",
    "    print(\"\\n TOTAL:\" + str(j))\n",
    "    print(Informacoes.info(verbose = False,memory_usage=\"deep\"))\n",
    "    print(datetime.now().strftime(\"%H:%M\"))\n",
    "    print()\n",
    "    print('Finished: ' + os.getcwd())\n",
    "    os.chdir('..')"
   ]
  },
  {
   "cell_type": "code",
   "execution_count": 5,
   "metadata": {},
   "outputs": [
    {
     "data": {
      "text/plain": [
       "array(['SunFlower', 'OldTown', 'Crowdrun', 'ParkJoy', 'RushHour', 'Ducks'],\n",
       "      dtype=object)"
      ]
     },
     "execution_count": 5,
     "metadata": {},
     "output_type": "execute_result"
    }
   ],
   "source": [
    "Informacoes['Origem'].unique()"
   ]
  },
  {
   "cell_type": "code",
   "execution_count": 6,
   "metadata": {},
   "outputs": [
    {
     "data": {
      "text/html": [
       "<div>\n",
       "<style scoped>\n",
       "    .dataframe tbody tr th:only-of-type {\n",
       "        vertical-align: middle;\n",
       "    }\n",
       "\n",
       "    .dataframe tbody tr th {\n",
       "        vertical-align: top;\n",
       "    }\n",
       "\n",
       "    .dataframe thead th {\n",
       "        text-align: right;\n",
       "    }\n",
       "</style>\n",
       "<table border=\"1\" class=\"dataframe\">\n",
       "  <thead>\n",
       "    <tr style=\"text-align: right;\">\n",
       "      <th></th>\n",
       "      <th>Origem</th>\n",
       "      <th>Frame</th>\n",
       "      <th>Height</th>\n",
       "      <th>Width</th>\n",
       "      <th>QP</th>\n",
       "      <th>Split</th>\n",
       "    </tr>\n",
       "  </thead>\n",
       "  <tbody>\n",
       "    <tr>\n",
       "      <td>0</td>\n",
       "      <td>SunFlower</td>\n",
       "      <td>338</td>\n",
       "      <td>0</td>\n",
       "      <td>0</td>\n",
       "      <td>22</td>\n",
       "      <td>1</td>\n",
       "    </tr>\n",
       "    <tr>\n",
       "      <td>1</td>\n",
       "      <td>SunFlower</td>\n",
       "      <td>338</td>\n",
       "      <td>0</td>\n",
       "      <td>64</td>\n",
       "      <td>22</td>\n",
       "      <td>0</td>\n",
       "    </tr>\n",
       "    <tr>\n",
       "      <td>2</td>\n",
       "      <td>SunFlower</td>\n",
       "      <td>338</td>\n",
       "      <td>0</td>\n",
       "      <td>128</td>\n",
       "      <td>22</td>\n",
       "      <td>1</td>\n",
       "    </tr>\n",
       "    <tr>\n",
       "      <td>3</td>\n",
       "      <td>SunFlower</td>\n",
       "      <td>338</td>\n",
       "      <td>0</td>\n",
       "      <td>192</td>\n",
       "      <td>22</td>\n",
       "      <td>0</td>\n",
       "    </tr>\n",
       "    <tr>\n",
       "      <td>4</td>\n",
       "      <td>SunFlower</td>\n",
       "      <td>338</td>\n",
       "      <td>0</td>\n",
       "      <td>256</td>\n",
       "      <td>22</td>\n",
       "      <td>1</td>\n",
       "    </tr>\n",
       "    <tr>\n",
       "      <td>...</td>\n",
       "      <td>...</td>\n",
       "      <td>...</td>\n",
       "      <td>...</td>\n",
       "      <td>...</td>\n",
       "      <td>...</td>\n",
       "      <td>...</td>\n",
       "    </tr>\n",
       "    <tr>\n",
       "      <td>6119995</td>\n",
       "      <td>SunFlower</td>\n",
       "      <td>0</td>\n",
       "      <td>1024</td>\n",
       "      <td>1600</td>\n",
       "      <td>32</td>\n",
       "      <td>1</td>\n",
       "    </tr>\n",
       "    <tr>\n",
       "      <td>6119996</td>\n",
       "      <td>SunFlower</td>\n",
       "      <td>0</td>\n",
       "      <td>1024</td>\n",
       "      <td>1664</td>\n",
       "      <td>32</td>\n",
       "      <td>1</td>\n",
       "    </tr>\n",
       "    <tr>\n",
       "      <td>6119997</td>\n",
       "      <td>SunFlower</td>\n",
       "      <td>0</td>\n",
       "      <td>1024</td>\n",
       "      <td>1728</td>\n",
       "      <td>32</td>\n",
       "      <td>1</td>\n",
       "    </tr>\n",
       "    <tr>\n",
       "      <td>6119998</td>\n",
       "      <td>SunFlower</td>\n",
       "      <td>0</td>\n",
       "      <td>1024</td>\n",
       "      <td>1792</td>\n",
       "      <td>32</td>\n",
       "      <td>1</td>\n",
       "    </tr>\n",
       "    <tr>\n",
       "      <td>6119999</td>\n",
       "      <td>SunFlower</td>\n",
       "      <td>0</td>\n",
       "      <td>1024</td>\n",
       "      <td>1856</td>\n",
       "      <td>32</td>\n",
       "      <td>1</td>\n",
       "    </tr>\n",
       "  </tbody>\n",
       "</table>\n",
       "<p>6120000 rows × 6 columns</p>\n",
       "</div>"
      ],
      "text/plain": [
       "            Origem  Frame  Height  Width  QP  Split\n",
       "0        SunFlower    338       0      0  22      1\n",
       "1        SunFlower    338       0     64  22      0\n",
       "2        SunFlower    338       0    128  22      1\n",
       "3        SunFlower    338       0    192  22      0\n",
       "4        SunFlower    338       0    256  22      1\n",
       "...            ...    ...     ...    ...  ..    ...\n",
       "6119995  SunFlower      0    1024   1600  32      1\n",
       "6119996  SunFlower      0    1024   1664  32      1\n",
       "6119997  SunFlower      0    1024   1728  32      1\n",
       "6119998  SunFlower      0    1024   1792  32      1\n",
       "6119999  SunFlower      0    1024   1856  32      1\n",
       "\n",
       "[6120000 rows x 6 columns]"
      ]
     },
     "execution_count": 6,
     "metadata": {},
     "output_type": "execute_result"
    }
   ],
   "source": [
    "Informacoes"
   ]
  },
  {
   "cell_type": "code",
   "execution_count": null,
   "metadata": {},
   "outputs": [],
   "source": [
    "cte_height = 1080;\n",
    "cte_width = 1920;"
   ]
  },
  {
   "cell_type": "markdown",
   "metadata": {},
   "source": [
    "Aqui nos lemos o dataset que dividimos em 4 partes para caber no Github"
   ]
  },
  {
   "cell_type": "code",
   "execution_count": 8,
   "metadata": {},
   "outputs": [
    {
     "data": {
      "text/plain": [
       "(24480000, 6)"
      ]
     },
     "execution_count": 8,
     "metadata": {},
     "output_type": "execute_result"
    }
   ],
   "source": [
    "Informacoes.shape"
   ]
  },
  {
   "cell_type": "code",
   "execution_count": 8,
   "metadata": {},
   "outputs": [
    {
     "data": {
      "text/html": [
       "<div>\n",
       "<style scoped>\n",
       "    .dataframe tbody tr th:only-of-type {\n",
       "        vertical-align: middle;\n",
       "    }\n",
       "\n",
       "    .dataframe tbody tr th {\n",
       "        vertical-align: top;\n",
       "    }\n",
       "\n",
       "    .dataframe thead th {\n",
       "        text-align: right;\n",
       "    }\n",
       "</style>\n",
       "<table border=\"1\" class=\"dataframe\">\n",
       "  <thead>\n",
       "    <tr style=\"text-align: right;\">\n",
       "      <th></th>\n",
       "      <th>Origem</th>\n",
       "      <th>Frame</th>\n",
       "      <th>Height</th>\n",
       "      <th>Width</th>\n",
       "      <th>QP</th>\n",
       "      <th>Split</th>\n",
       "    </tr>\n",
       "  </thead>\n",
       "  <tbody>\n",
       "    <tr>\n",
       "      <td>0</td>\n",
       "      <td>SunFlower</td>\n",
       "      <td>338</td>\n",
       "      <td>0</td>\n",
       "      <td>0</td>\n",
       "      <td>22</td>\n",
       "      <td>1</td>\n",
       "    </tr>\n",
       "    <tr>\n",
       "      <td>1</td>\n",
       "      <td>SunFlower</td>\n",
       "      <td>338</td>\n",
       "      <td>0</td>\n",
       "      <td>64</td>\n",
       "      <td>22</td>\n",
       "      <td>0</td>\n",
       "    </tr>\n",
       "    <tr>\n",
       "      <td>2</td>\n",
       "      <td>SunFlower</td>\n",
       "      <td>338</td>\n",
       "      <td>0</td>\n",
       "      <td>128</td>\n",
       "      <td>22</td>\n",
       "      <td>1</td>\n",
       "    </tr>\n",
       "    <tr>\n",
       "      <td>3</td>\n",
       "      <td>SunFlower</td>\n",
       "      <td>338</td>\n",
       "      <td>0</td>\n",
       "      <td>192</td>\n",
       "      <td>22</td>\n",
       "      <td>0</td>\n",
       "    </tr>\n",
       "    <tr>\n",
       "      <td>4</td>\n",
       "      <td>SunFlower</td>\n",
       "      <td>338</td>\n",
       "      <td>0</td>\n",
       "      <td>256</td>\n",
       "      <td>22</td>\n",
       "      <td>1</td>\n",
       "    </tr>\n",
       "  </tbody>\n",
       "</table>\n",
       "</div>"
      ],
      "text/plain": [
       "      Origem  Frame  Height  Width  QP  Split\n",
       "0  SunFlower    338       0      0  22      1\n",
       "1  SunFlower    338       0     64  22      0\n",
       "2  SunFlower    338       0    128  22      1\n",
       "3  SunFlower    338       0    192  22      0\n",
       "4  SunFlower    338       0    256  22      1"
      ]
     },
     "execution_count": 8,
     "metadata": {},
     "output_type": "execute_result"
    }
   ],
   "source": [
    "Informacoes.head()"
   ]
  },
  {
   "cell_type": "markdown",
   "metadata": {},
   "source": [
    "dropando as linhas que o CU já é cortado, desta forma não o utilizaremos para treinar a rede neural"
   ]
  },
  {
   "cell_type": "code",
   "execution_count": 7,
   "metadata": {},
   "outputs": [],
   "source": [
    "Informacoes[\"Height_Final\"] = Informacoes[\"Height\"]+63\n",
    "Informacoes[\"Width_Final\"] = Informacoes[\"Width\"]+63\n",
    "Informacoes.drop(Informacoes.loc[(Informacoes[\"Height_Final\"]>cte_height)|(Informacoes[\"Width_Final\"]>cte_width)].index,inplace=True)\n",
    "Informacoes.drop(columns=['Height_Final',\"Width_Final\"],inplace=True)"
   ]
  },
  {
   "cell_type": "code",
   "execution_count": 8,
   "metadata": {},
   "outputs": [
    {
     "data": {
      "text/plain": [
       "(5760000, 6)"
      ]
     },
     "execution_count": 8,
     "metadata": {},
     "output_type": "execute_result"
    }
   ],
   "source": [
    "Informacoes.shape"
   ]
  },
  {
   "cell_type": "code",
   "execution_count": 9,
   "metadata": {},
   "outputs": [
    {
     "data": {
      "text/html": [
       "<div>\n",
       "<style scoped>\n",
       "    .dataframe tbody tr th:only-of-type {\n",
       "        vertical-align: middle;\n",
       "    }\n",
       "\n",
       "    .dataframe tbody tr th {\n",
       "        vertical-align: top;\n",
       "    }\n",
       "\n",
       "    .dataframe thead th {\n",
       "        text-align: right;\n",
       "    }\n",
       "</style>\n",
       "<table border=\"1\" class=\"dataframe\">\n",
       "  <thead>\n",
       "    <tr style=\"text-align: right;\">\n",
       "      <th></th>\n",
       "      <th>Origem</th>\n",
       "      <th>Frame</th>\n",
       "      <th>Height</th>\n",
       "      <th>Width</th>\n",
       "      <th>QP</th>\n",
       "      <th>Split</th>\n",
       "    </tr>\n",
       "    <tr>\n",
       "      <th>index</th>\n",
       "      <th></th>\n",
       "      <th></th>\n",
       "      <th></th>\n",
       "      <th></th>\n",
       "      <th></th>\n",
       "      <th></th>\n",
       "    </tr>\n",
       "  </thead>\n",
       "  <tbody>\n",
       "    <tr>\n",
       "      <th>0</th>\n",
       "      <td>Crowdrun</td>\n",
       "      <td>323</td>\n",
       "      <td>0</td>\n",
       "      <td>0</td>\n",
       "      <td>41</td>\n",
       "      <td>1</td>\n",
       "    </tr>\n",
       "    <tr>\n",
       "      <th>1</th>\n",
       "      <td>Crowdrun</td>\n",
       "      <td>323</td>\n",
       "      <td>0</td>\n",
       "      <td>64</td>\n",
       "      <td>41</td>\n",
       "      <td>1</td>\n",
       "    </tr>\n",
       "    <tr>\n",
       "      <th>2</th>\n",
       "      <td>Crowdrun</td>\n",
       "      <td>323</td>\n",
       "      <td>0</td>\n",
       "      <td>128</td>\n",
       "      <td>41</td>\n",
       "      <td>0</td>\n",
       "    </tr>\n",
       "    <tr>\n",
       "      <th>3</th>\n",
       "      <td>Crowdrun</td>\n",
       "      <td>323</td>\n",
       "      <td>0</td>\n",
       "      <td>192</td>\n",
       "      <td>41</td>\n",
       "      <td>0</td>\n",
       "    </tr>\n",
       "    <tr>\n",
       "      <th>4</th>\n",
       "      <td>Crowdrun</td>\n",
       "      <td>323</td>\n",
       "      <td>0</td>\n",
       "      <td>256</td>\n",
       "      <td>41</td>\n",
       "      <td>0</td>\n",
       "    </tr>\n",
       "  </tbody>\n",
       "</table>\n",
       "</div>"
      ],
      "text/plain": [
       "         Origem  Frame  Height  Width  QP  Split\n",
       "index                                           \n",
       "0      Crowdrun    323       0      0  41      1\n",
       "1      Crowdrun    323       0     64  41      1\n",
       "2      Crowdrun    323       0    128  41      0\n",
       "3      Crowdrun    323       0    192  41      0\n",
       "4      Crowdrun    323       0    256  41      0"
      ]
     },
     "execution_count": 9,
     "metadata": {},
     "output_type": "execute_result"
    }
   ],
   "source": [
    "Informacoes.head()"
   ]
  },
  {
   "cell_type": "code",
   "execution_count": 10,
   "metadata": {},
   "outputs": [
    {
     "data": {
      "text/plain": [
       "<matplotlib.axes._subplots.AxesSubplot at 0x7f34b4851940>"
      ]
     },
     "execution_count": 10,
     "metadata": {},
     "output_type": "execute_result"
    },
    {
     "data": {
      "image/png": "[encoded data removed]",
      "text/plain": [
       "<Figure size 432x288 with 1 Axes>"
      ]
     },
     "metadata": {
      "needs_background": "light"
     },
     "output_type": "display_data"
    }
   ],
   "source": [
    "Informacoes['QP'].hist()"
   ]
  },
  {
   "cell_type": "code",
   "execution_count": 11,
   "metadata": {},
   "outputs": [
    {
     "data": {
      "text/plain": [
       "'/home/tomas/Desktop/UNB/Deeplearning_Video_Compressing'"
      ]
     },
     "execution_count": 11,
     "metadata": {},
     "output_type": "execute_result"
    }
   ],
   "source": [
    "os.getcwd()"
   ]
  },
  {
   "cell_type": "markdown",
   "metadata": {},
   "source": [
    "Lemos os videos para podermos mapear o canal Y de cada frame"
   ]
  },
  {
   "cell_type": "code",
   "execution_count": 12,
   "metadata": {},
   "outputs": [],
   "source": [
    "parkjoy = np.fromfile('./Videos/ParkJoy_1920x1080_50_8bit_420.yuv',dtype='uint8')\n",
    "rushhour= np.fromfile('./Videos/RushHour_1920x1080_25_8bit_420.yuv',dtype='uint8')\n",
    "oldtown = np.fromfile('./Videos/OldTownCross_1920x1080_50_8bit_420.yuv',dtype='uint8')\n",
    "ducks = np.fromfile('./Videos/DucksTakeOff_1920x1080_50_8bit_420.yuv',dtype='uint8')\n",
    "crowdrun = np.fromfile('./Videos/Crowdrun_1920x1080_50_8bit_420.yuv',dtype='uint8')\n",
    "sunflower = np.fromfile('./Videos/Sunflower_1920x1080_25_8bit_420.yuv',dtype='uint8')"
   ]
  },
  {
   "cell_type": "code",
   "execution_count": 13,
   "metadata": {},
   "outputs": [
    {
     "data": {
      "text/plain": [
       "(1555200000,)"
      ]
     },
     "execution_count": 13,
     "metadata": {},
     "output_type": "execute_result"
    }
   ],
   "source": [
    "crowdrun.shape"
   ]
  },
  {
   "cell_type": "code",
   "execution_count": 14,
   "metadata": {},
   "outputs": [
    {
     "data": {
      "text/plain": [
       "(1555200000,)"
      ]
     },
     "execution_count": 14,
     "metadata": {},
     "output_type": "execute_result"
    }
   ],
   "source": [
    "parkjoy.shape"
   ]
  },
  {
   "cell_type": "code",
   "execution_count": 15,
   "metadata": {},
   "outputs": [
    {
     "data": {
      "text/plain": [
       "(1555200000,)"
      ]
     },
     "execution_count": 15,
     "metadata": {},
     "output_type": "execute_result"
    }
   ],
   "source": [
    "rushhour.shape"
   ]
  },
  {
   "cell_type": "code",
   "execution_count": 16,
   "metadata": {},
   "outputs": [
    {
     "data": {
      "text/plain": [
       "(1555200000,)"
      ]
     },
     "execution_count": 16,
     "metadata": {},
     "output_type": "execute_result"
    }
   ],
   "source": [
    "oldtown.shape"
   ]
  },
  {
   "cell_type": "code",
   "execution_count": 17,
   "metadata": {},
   "outputs": [
    {
     "data": {
      "text/plain": [
       "(1555200000,)"
      ]
     },
     "execution_count": 17,
     "metadata": {},
     "output_type": "execute_result"
    }
   ],
   "source": [
    "ducks.shape"
   ]
  },
  {
   "cell_type": "code",
   "execution_count": 18,
   "metadata": {},
   "outputs": [
    {
     "data": {
      "text/plain": [
       "(1555200000,)"
      ]
     },
     "execution_count": 18,
     "metadata": {},
     "output_type": "execute_result"
    }
   ],
   "source": [
    "crowdrun.shape"
   ]
  },
  {
   "cell_type": "code",
   "execution_count": 19,
   "metadata": {},
   "outputs": [
    {
     "data": {
      "text/plain": [
       "(1555200000,)"
      ]
     },
     "execution_count": 19,
     "metadata": {},
     "output_type": "execute_result"
    }
   ],
   "source": [
    "sunflower.shape"
   ]
  },
  {
   "cell_type": "code",
   "execution_count": 20,
   "metadata": {},
   "outputs": [],
   "source": [
    "Map = {\"OldTown\":oldtown,'Crowdrun':crowdrun,'SunFlower':sunflower,\"ParkJoy\":parkjoy,'Ducks':ducks,'RushHour':rushhour}"
   ]
  },
  {
   "cell_type": "code",
   "execution_count": 21,
   "metadata": {},
   "outputs": [],
   "source": [
    "def generate_input(row,cte_height,cte_width):\n",
    "    begin_Frame = int(row['Frame'])*(cte_height*cte_width + cte_height*cte_width/2)\n",
    "    end_Frame = (int(row['Frame']))*(cte_height*cte_width + cte_height*cte_width/2)+cte_height*cte_width\n",
    "    begin_Frame = int(begin_Frame)\n",
    "    end_Frame = int(end_Frame)\n",
    "    Input = (Map[row['Origem']][begin_Frame:end_Frame].reshape([cte_height,cte_width]))[row['Height']:row['Height']+64,row['Width']:row['Width']+64]\n",
    "    return np.append(Input.reshape(1,64*64)[0],row[\"QP\"])"
   ]
  },
  {
   "cell_type": "code",
   "execution_count": null,
   "metadata": {},
   "outputs": [],
   "source": [
    "Info[\"INPUT\"] = Info.apply(lambda x : generate_input(x,cte_height,cte_width),axis=1)"
   ]
  },
  {
   "cell_type": "code",
   "execution_count": null,
   "metadata": {},
   "outputs": [],
   "source": [
    "Info"
   ]
  },
  {
   "cell_type": "code",
   "execution_count": null,
   "metadata": {},
   "outputs": [],
   "source": [
    "begin_Frame = int(Training_set.iloc[i]['Frame'])*(cte_height*cte_width + cte_height*cte_width/2)\n",
    "end_Frame = (int(Training_set.iloc[i]['Frame']))*(cte_height*cte_width + cte_height*cte_width/2)+cte_height*cte_width\n",
    "begin_Frame = int(begin_Frame)\n",
    "end_Frame = int(end_Frame)"
   ]
  },
  {
   "cell_type": "code",
   "execution_count": 64,
   "metadata": {},
   "outputs": [],
   "source": [
    "Input = Map[Training_set.iloc[i]['Origem']][begin_Frame:end_Frame].reshape([cte_height,cte_width])\n",
    "Height = Training_set.iloc[i][\"Height\"]\n",
    "Width = Training_set.iloc[i][\"Width\"]\n",
    "Input_2  = Input[Height:Height+64,Width:Width+64]\n",
    "Input_2 = Input_2.reshape(1,64*64)[0]\n",
    "Input_2 = np.append(Input_2,Training_set.iloc[i][\"QP\"])\n",
    "Output = Training_set.iloc[i][\"Split\"]"
   ]
  },
  {
   "cell_type": "code",
   "execution_count": 23,
   "metadata": {},
   "outputs": [],
   "source": [
    "Data_Validation = Informacoes.iloc[int(4*Informacoes.shape[0]/5):].copy()"
   ]
  },
  {
   "cell_type": "code",
   "execution_count": 24,
   "metadata": {},
   "outputs": [],
   "source": [
    "Test_set = Informacoes.iloc[int(3*Informacoes.shape[0]/5):int(4*Informacoes.shape[0]/5)].copy()"
   ]
  },
  {
   "cell_type": "code",
   "execution_count": 25,
   "metadata": {},
   "outputs": [],
   "source": [
    "Training_set = Informacoes.iloc[:int(3*Informacoes.shape[0]/5)].copy()"
   ]
  },
  {
   "cell_type": "code",
   "execution_count": 26,
   "metadata": {},
   "outputs": [
    {
     "data": {
      "text/html": [
       "<div>\n",
       "<style scoped>\n",
       "    .dataframe tbody tr th:only-of-type {\n",
       "        vertical-align: middle;\n",
       "    }\n",
       "\n",
       "    .dataframe tbody tr th {\n",
       "        vertical-align: top;\n",
       "    }\n",
       "\n",
       "    .dataframe thead th {\n",
       "        text-align: right;\n",
       "    }\n",
       "</style>\n",
       "<table border=\"1\" class=\"dataframe\">\n",
       "  <thead>\n",
       "    <tr style=\"text-align: right;\">\n",
       "      <th></th>\n",
       "      <th>Origem</th>\n",
       "      <th>Frame</th>\n",
       "      <th>Height</th>\n",
       "      <th>Width</th>\n",
       "      <th>QP</th>\n",
       "      <th>Split</th>\n",
       "    </tr>\n",
       "    <tr>\n",
       "      <th>index</th>\n",
       "      <th></th>\n",
       "      <th></th>\n",
       "      <th></th>\n",
       "      <th></th>\n",
       "      <th></th>\n",
       "      <th></th>\n",
       "    </tr>\n",
       "  </thead>\n",
       "  <tbody>\n",
       "    <tr>\n",
       "      <th>4800672</th>\n",
       "      <td>Ducks</td>\n",
       "      <td>419</td>\n",
       "      <td>64</td>\n",
       "      <td>768</td>\n",
       "      <td>36</td>\n",
       "      <td>0</td>\n",
       "    </tr>\n",
       "    <tr>\n",
       "      <th>1086346</th>\n",
       "      <td>RushHour</td>\n",
       "      <td>118</td>\n",
       "      <td>64</td>\n",
       "      <td>1024</td>\n",
       "      <td>45</td>\n",
       "      <td>0</td>\n",
       "    </tr>\n",
       "    <tr>\n",
       "      <th>4777884</th>\n",
       "      <td>Ducks</td>\n",
       "      <td>80</td>\n",
       "      <td>384</td>\n",
       "      <td>1536</td>\n",
       "      <td>28</td>\n",
       "      <td>1</td>\n",
       "    </tr>\n",
       "    <tr>\n",
       "      <th>812234</th>\n",
       "      <td>ParkJoy</td>\n",
       "      <td>346</td>\n",
       "      <td>640</td>\n",
       "      <td>896</td>\n",
       "      <td>34</td>\n",
       "      <td>1</td>\n",
       "    </tr>\n",
       "    <tr>\n",
       "      <th>4011227</th>\n",
       "      <td>RushHour</td>\n",
       "      <td>241</td>\n",
       "      <td>128</td>\n",
       "      <td>1088</td>\n",
       "      <td>41</td>\n",
       "      <td>0</td>\n",
       "    </tr>\n",
       "  </tbody>\n",
       "</table>\n",
       "</div>"
      ],
      "text/plain": [
       "           Origem  Frame  Height  Width  QP  Split\n",
       "index                                             \n",
       "4800672     Ducks    419      64    768  36      0\n",
       "1086346  RushHour    118      64   1024  45      0\n",
       "4777884     Ducks     80     384   1536  28      1\n",
       "812234    ParkJoy    346     640    896  34      1\n",
       "4011227  RushHour    241     128   1088  41      0"
      ]
     },
     "execution_count": 26,
     "metadata": {},
     "output_type": "execute_result"
    }
   ],
   "source": [
    "Informacoes.head()"
   ]
  },
  {
   "cell_type": "markdown",
   "metadata": {},
   "source": [
    "Tentando fazer usando uma parte da Info de cada vez, ver se a memoria Ram aguenta\n",
    "Rodar essa parte toda para cada depth part e cada video"
   ]
  },
  {
   "cell_type": "code",
   "execution_count": 1,
   "metadata": {},
   "outputs": [],
   "source": [
    "import pandas as pd\n",
    "import numpy as np\n",
    "import os\n",
    "import cv2\n",
    "from pandas.plotting import table\n",
    "import matplotlib.pyplot as plt"
   ]
  },
  {
   "cell_type": "code",
   "execution_count": 2,
   "metadata": {},
   "outputs": [],
   "source": [
    "cte_height = 1080;\n",
    "cte_width = 1920;"
   ]
  },
  {
   "cell_type": "code",
   "execution_count": 3,
   "metadata": {},
   "outputs": [],
   "source": [
    "Info = pd.read_csv(\"Depth0_part1\")"
   ]
  },
  {
   "cell_type": "code",
   "execution_count": 4,
   "metadata": {},
   "outputs": [],
   "source": [
    "Info.set_index(\"index\",inplace=True)"
   ]
  },
  {
   "cell_type": "code",
   "execution_count": 5,
   "metadata": {},
   "outputs": [
    {
     "data": {
      "text/plain": [
       "array(['Crowdrun', 'SunFlower', 'ParkJoy', 'RushHour', 'OldTown'],\n",
       "      dtype=object)"
      ]
     },
     "execution_count": 5,
     "metadata": {},
     "output_type": "execute_result"
    }
   ],
   "source": [
    "Info['Origem'].unique()"
   ]
  },
  {
   "cell_type": "code",
   "execution_count": 6,
   "metadata": {},
   "outputs": [],
   "source": [
    "Info[\"Height_Final\"] = Info[\"Height\"]+63\n",
    "Info[\"Width_Final\"] = Info[\"Width\"]+63\n",
    "Info.drop(Info.loc[(Info[\"Height_Final\"]>cte_height)|(Info[\"Width_Final\"]>cte_width)].index,inplace=True)\n",
    "Info.drop(columns=['Height_Final',\"Width_Final\"],inplace=True)"
   ]
  },
  {
   "cell_type": "code",
   "execution_count": 7,
   "metadata": {},
   "outputs": [],
   "source": [
    "crowdrun = np.fromfile('./Videos/Crowdrun_1920x1080_50_8bit_420.yuv',dtype='uint8')\n",
    "\n",
    "\n",
    "\n",
    "#parkjoy = np.fromfile('./Videos/ParkJoy_1920x1080_50_8bit_420.yuv',dtype='uint8')\n",
    "#rushhour= np.fromfile('./Videos/RushHour_1920x1080_25_8bit_420.yuv',dtype='uint8')\n",
    "#oldtown = np.fromfile('./Videos/OldTownCross_1920x1080_50_8bit_420.yuv',dtype='uint8')\n",
    "#ducks = np.fromfile('./Videos/DucksTakeOff_1920x1080_50_8bit_420.yuv',dtype='uint8')\n",
    "#sunflower = np.fromfile('./Videos/Sunflower_1920x1080_25_8bit_420.yuv',dtype='uint8')"
   ]
  },
  {
   "cell_type": "code",
   "execution_count": 8,
   "metadata": {},
   "outputs": [],
   "source": [
    "#Map = {\"OldTown\":oldtown,'Crowdrun':crowdrun,'SunFlower':sunflower,\"ParkJoy\":parkjoy,'Ducks':ducks,'RushHour':rushhour}\n",
    "Map = {'Crowdrun':crowdrun}"
   ]
  },
  {
   "cell_type": "code",
   "execution_count": 9,
   "metadata": {},
   "outputs": [],
   "source": [
    "def generate_input(row,cte_height,cte_width):\n",
    "    begin_Frame = int(row['Frame'])*(cte_height*cte_width + cte_height*cte_width/2)\n",
    "    end_Frame = (int(row['Frame']))*(cte_height*cte_width + cte_height*cte_width/2)+cte_height*cte_width\n",
    "    begin_Frame = int(begin_Frame)\n",
    "    end_Frame = int(end_Frame)\n",
    "    Input = (Map[row['Origem']][begin_Frame:end_Frame].reshape([cte_height,cte_width]))[row['Height']:row['Height']+64,row['Width']:row['Width']+64]\n",
    "    return np.append(Input.reshape(1,64*64)[0],row[\"QP\"])"
   ]
  },
  {
   "cell_type": "code",
   "execution_count": 10,
   "metadata": {},
   "outputs": [],
   "source": [
    "Info = Info.loc[Info['Origem'].str.contains(\"Crow\")].copy()\n",
    "Info[\"INPUT\"] = Info.apply(lambda x : generate_input(x,cte_height,cte_width),axis=1)"
   ]
  },
  {
   "cell_type": "code",
   "execution_count": 15,
   "metadata": {},
   "outputs": [],
   "source": [
    "for i in range(Info.shape[0]):\n",
    "    cv2.imwrite('./Depth_0/{}_{}_{}_{}_{}.png'.format(Info.iloc[i]['Origem'],Info.iloc[i]['Frame'],Info.iloc[i]['Height'],Info.iloc[i]['Width'],Info.iloc[i]['Split']),Info.iloc[i]['INPUT'])"
   ]
  },
  {
   "cell_type": "code",
   "execution_count": null,
   "metadata": {},
   "outputs": [],
   "source": []
  }
 ],
 "metadata": {
  "kernelspec": {
   "display_name": "Python 3",
   "language": "python",
   "name": "python3"
  },
  "language_info": {
   "codemirror_mode": {
    "name": "ipython",
    "version": 3
   },
   "file_extension": ".py",
   "mimetype": "text/x-python",
   "name": "python",
   "nbconvert_exporter": "python",
   "pygments_lexer": "ipython3",
   "version": "3.6.8"
  }
 },
 "nbformat": 4,
 "nbformat_minor": 4
}
